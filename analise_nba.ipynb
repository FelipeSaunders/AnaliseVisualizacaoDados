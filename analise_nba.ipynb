{
  "cells": [
    {
      "cell_type": "code",
      "execution_count": 46,
      "metadata": {
        "id": "DMMu0cn69nvj"
      },
      "outputs": [],
      "source": [
        "import pandas as pd\n",
        "import numpy as np\n",
        "import matplotlib.pyplot as plt\n",
        "import seaborn as sns\n",
        "\n",
        "data = pd.read_csv('/home/felipesaunders/Documents/5o_periodo/avd/folder/all_seasons.csv')"
      ]
    },
    {
      "cell_type": "code",
      "execution_count": 47,
      "metadata": {
        "colab": {
          "base_uri": "https://localhost:8080/",
          "height": 519
        },
        "id": "U26bSVJ0ROIN",
        "outputId": "14eb7471-26e9-405f-c2cb-f15d789f511a"
      },
      "outputs": [
        {
          "data": {
            "text/html": [
              "<div>\n",
              "<style scoped>\n",
              "    .dataframe tbody tr th:only-of-type {\n",
              "        vertical-align: middle;\n",
              "    }\n",
              "\n",
              "    .dataframe tbody tr th {\n",
              "        vertical-align: top;\n",
              "    }\n",
              "\n",
              "    .dataframe thead th {\n",
              "        text-align: right;\n",
              "    }\n",
              "</style>\n",
              "<table border=\"1\" class=\"dataframe\">\n",
              "  <thead>\n",
              "    <tr style=\"text-align: right;\">\n",
              "      <th></th>\n",
              "      <th>0</th>\n",
              "      <th>1</th>\n",
              "      <th>2</th>\n",
              "    </tr>\n",
              "  </thead>\n",
              "  <tbody>\n",
              "    <tr>\n",
              "      <th>Unnamed: 0</th>\n",
              "      <td>0</td>\n",
              "      <td>1</td>\n",
              "      <td>2</td>\n",
              "    </tr>\n",
              "    <tr>\n",
              "      <th>player_name</th>\n",
              "      <td>Dennis Rodman</td>\n",
              "      <td>Dwayne Schintzius</td>\n",
              "      <td>Earl Cureton</td>\n",
              "    </tr>\n",
              "    <tr>\n",
              "      <th>team_abbreviation</th>\n",
              "      <td>CHI</td>\n",
              "      <td>LAC</td>\n",
              "      <td>TOR</td>\n",
              "    </tr>\n",
              "    <tr>\n",
              "      <th>age</th>\n",
              "      <td>36.0</td>\n",
              "      <td>28.0</td>\n",
              "      <td>39.0</td>\n",
              "    </tr>\n",
              "    <tr>\n",
              "      <th>player_height</th>\n",
              "      <td>198.12</td>\n",
              "      <td>215.9</td>\n",
              "      <td>205.74</td>\n",
              "    </tr>\n",
              "    <tr>\n",
              "      <th>player_weight</th>\n",
              "      <td>99.79024</td>\n",
              "      <td>117.93392</td>\n",
              "      <td>95.25432</td>\n",
              "    </tr>\n",
              "    <tr>\n",
              "      <th>college</th>\n",
              "      <td>Southeastern Oklahoma State</td>\n",
              "      <td>Florida</td>\n",
              "      <td>Detroit Mercy</td>\n",
              "    </tr>\n",
              "    <tr>\n",
              "      <th>country</th>\n",
              "      <td>USA</td>\n",
              "      <td>USA</td>\n",
              "      <td>USA</td>\n",
              "    </tr>\n",
              "    <tr>\n",
              "      <th>draft_year</th>\n",
              "      <td>1986</td>\n",
              "      <td>1990</td>\n",
              "      <td>1979</td>\n",
              "    </tr>\n",
              "    <tr>\n",
              "      <th>draft_round</th>\n",
              "      <td>2</td>\n",
              "      <td>1</td>\n",
              "      <td>3</td>\n",
              "    </tr>\n",
              "    <tr>\n",
              "      <th>draft_number</th>\n",
              "      <td>27</td>\n",
              "      <td>24</td>\n",
              "      <td>58</td>\n",
              "    </tr>\n",
              "    <tr>\n",
              "      <th>gp</th>\n",
              "      <td>55</td>\n",
              "      <td>15</td>\n",
              "      <td>9</td>\n",
              "    </tr>\n",
              "    <tr>\n",
              "      <th>pts</th>\n",
              "      <td>5.7</td>\n",
              "      <td>2.3</td>\n",
              "      <td>0.8</td>\n",
              "    </tr>\n",
              "    <tr>\n",
              "      <th>reb</th>\n",
              "      <td>16.1</td>\n",
              "      <td>1.5</td>\n",
              "      <td>1.0</td>\n",
              "    </tr>\n",
              "    <tr>\n",
              "      <th>ast</th>\n",
              "      <td>3.1</td>\n",
              "      <td>0.3</td>\n",
              "      <td>0.4</td>\n",
              "    </tr>\n",
              "    <tr>\n",
              "      <th>net_rating</th>\n",
              "      <td>16.1</td>\n",
              "      <td>12.3</td>\n",
              "      <td>-2.1</td>\n",
              "    </tr>\n",
              "    <tr>\n",
              "      <th>oreb_pct</th>\n",
              "      <td>0.186</td>\n",
              "      <td>0.078</td>\n",
              "      <td>0.105</td>\n",
              "    </tr>\n",
              "    <tr>\n",
              "      <th>dreb_pct</th>\n",
              "      <td>0.323</td>\n",
              "      <td>0.151</td>\n",
              "      <td>0.102</td>\n",
              "    </tr>\n",
              "    <tr>\n",
              "      <th>usg_pct</th>\n",
              "      <td>0.1</td>\n",
              "      <td>0.175</td>\n",
              "      <td>0.103</td>\n",
              "    </tr>\n",
              "    <tr>\n",
              "      <th>ts_pct</th>\n",
              "      <td>0.479</td>\n",
              "      <td>0.43</td>\n",
              "      <td>0.376</td>\n",
              "    </tr>\n",
              "    <tr>\n",
              "      <th>ast_pct</th>\n",
              "      <td>0.113</td>\n",
              "      <td>0.048</td>\n",
              "      <td>0.148</td>\n",
              "    </tr>\n",
              "    <tr>\n",
              "      <th>season</th>\n",
              "      <td>1996-97</td>\n",
              "      <td>1996-97</td>\n",
              "      <td>1996-97</td>\n",
              "    </tr>\n",
              "  </tbody>\n",
              "</table>\n",
              "</div>"
            ],
            "text/plain": [
              "                                             0                  1  \\\n",
              "Unnamed: 0                                   0                  1   \n",
              "player_name                      Dennis Rodman  Dwayne Schintzius   \n",
              "team_abbreviation                          CHI                LAC   \n",
              "age                                       36.0               28.0   \n",
              "player_height                           198.12              215.9   \n",
              "player_weight                         99.79024          117.93392   \n",
              "college            Southeastern Oklahoma State            Florida   \n",
              "country                                    USA                USA   \n",
              "draft_year                                1986               1990   \n",
              "draft_round                                  2                  1   \n",
              "draft_number                                27                 24   \n",
              "gp                                          55                 15   \n",
              "pts                                        5.7                2.3   \n",
              "reb                                       16.1                1.5   \n",
              "ast                                        3.1                0.3   \n",
              "net_rating                                16.1               12.3   \n",
              "oreb_pct                                 0.186              0.078   \n",
              "dreb_pct                                 0.323              0.151   \n",
              "usg_pct                                    0.1              0.175   \n",
              "ts_pct                                   0.479               0.43   \n",
              "ast_pct                                  0.113              0.048   \n",
              "season                                 1996-97            1996-97   \n",
              "\n",
              "                               2  \n",
              "Unnamed: 0                     2  \n",
              "player_name         Earl Cureton  \n",
              "team_abbreviation            TOR  \n",
              "age                         39.0  \n",
              "player_height             205.74  \n",
              "player_weight           95.25432  \n",
              "college            Detroit Mercy  \n",
              "country                      USA  \n",
              "draft_year                  1979  \n",
              "draft_round                    3  \n",
              "draft_number                  58  \n",
              "gp                             9  \n",
              "pts                          0.8  \n",
              "reb                          1.0  \n",
              "ast                          0.4  \n",
              "net_rating                  -2.1  \n",
              "oreb_pct                   0.105  \n",
              "dreb_pct                   0.102  \n",
              "usg_pct                    0.103  \n",
              "ts_pct                     0.376  \n",
              "ast_pct                    0.148  \n",
              "season                   1996-97  "
            ]
          },
          "metadata": {},
          "output_type": "display_data"
        }
      ],
      "source": [
        "display(data[0:3].T)"
      ]
    },
    {
      "cell_type": "code",
      "execution_count": 48,
      "metadata": {
        "colab": {
          "base_uri": "https://localhost:8080/",
          "height": 421
        },
        "id": "lV4gWcUa_Iqj",
        "outputId": "139696c3-2e46-4c9a-8d36-22195d37bc2e"
      },
      "outputs": [
        {
          "data": {
            "text/html": [
              "<div>\n",
              "<style scoped>\n",
              "    .dataframe tbody tr th:only-of-type {\n",
              "        vertical-align: middle;\n",
              "    }\n",
              "\n",
              "    .dataframe tbody tr th {\n",
              "        vertical-align: top;\n",
              "    }\n",
              "\n",
              "    .dataframe thead th {\n",
              "        text-align: right;\n",
              "    }\n",
              "</style>\n",
              "<table border=\"1\" class=\"dataframe\">\n",
              "  <thead>\n",
              "    <tr style=\"text-align: right;\">\n",
              "      <th></th>\n",
              "      <th>Unnamed: 0</th>\n",
              "      <th>player_name</th>\n",
              "      <th>team_abbreviation</th>\n",
              "      <th>age</th>\n",
              "      <th>player_height</th>\n",
              "      <th>player_weight</th>\n",
              "      <th>college</th>\n",
              "      <th>country</th>\n",
              "      <th>draft_year</th>\n",
              "      <th>draft_round</th>\n",
              "      <th>...</th>\n",
              "      <th>pts</th>\n",
              "      <th>reb</th>\n",
              "      <th>ast</th>\n",
              "      <th>net_rating</th>\n",
              "      <th>oreb_pct</th>\n",
              "      <th>dreb_pct</th>\n",
              "      <th>usg_pct</th>\n",
              "      <th>ts_pct</th>\n",
              "      <th>ast_pct</th>\n",
              "      <th>season</th>\n",
              "    </tr>\n",
              "  </thead>\n",
              "  <tbody>\n",
              "    <tr>\n",
              "      <th>0</th>\n",
              "      <td>0</td>\n",
              "      <td>Dennis Rodman</td>\n",
              "      <td>CHI</td>\n",
              "      <td>36.0</td>\n",
              "      <td>198.12</td>\n",
              "      <td>99.790240</td>\n",
              "      <td>Southeastern Oklahoma State</td>\n",
              "      <td>USA</td>\n",
              "      <td>1986</td>\n",
              "      <td>2</td>\n",
              "      <td>...</td>\n",
              "      <td>5.7</td>\n",
              "      <td>16.1</td>\n",
              "      <td>3.1</td>\n",
              "      <td>16.1</td>\n",
              "      <td>0.186</td>\n",
              "      <td>0.323</td>\n",
              "      <td>0.100</td>\n",
              "      <td>0.479</td>\n",
              "      <td>0.113</td>\n",
              "      <td>1996-97</td>\n",
              "    </tr>\n",
              "    <tr>\n",
              "      <th>1</th>\n",
              "      <td>1</td>\n",
              "      <td>Dwayne Schintzius</td>\n",
              "      <td>LAC</td>\n",
              "      <td>28.0</td>\n",
              "      <td>215.90</td>\n",
              "      <td>117.933920</td>\n",
              "      <td>Florida</td>\n",
              "      <td>USA</td>\n",
              "      <td>1990</td>\n",
              "      <td>1</td>\n",
              "      <td>...</td>\n",
              "      <td>2.3</td>\n",
              "      <td>1.5</td>\n",
              "      <td>0.3</td>\n",
              "      <td>12.3</td>\n",
              "      <td>0.078</td>\n",
              "      <td>0.151</td>\n",
              "      <td>0.175</td>\n",
              "      <td>0.430</td>\n",
              "      <td>0.048</td>\n",
              "      <td>1996-97</td>\n",
              "    </tr>\n",
              "    <tr>\n",
              "      <th>2</th>\n",
              "      <td>2</td>\n",
              "      <td>Earl Cureton</td>\n",
              "      <td>TOR</td>\n",
              "      <td>39.0</td>\n",
              "      <td>205.74</td>\n",
              "      <td>95.254320</td>\n",
              "      <td>Detroit Mercy</td>\n",
              "      <td>USA</td>\n",
              "      <td>1979</td>\n",
              "      <td>3</td>\n",
              "      <td>...</td>\n",
              "      <td>0.8</td>\n",
              "      <td>1.0</td>\n",
              "      <td>0.4</td>\n",
              "      <td>-2.1</td>\n",
              "      <td>0.105</td>\n",
              "      <td>0.102</td>\n",
              "      <td>0.103</td>\n",
              "      <td>0.376</td>\n",
              "      <td>0.148</td>\n",
              "      <td>1996-97</td>\n",
              "    </tr>\n",
              "    <tr>\n",
              "      <th>3</th>\n",
              "      <td>3</td>\n",
              "      <td>Ed O'Bannon</td>\n",
              "      <td>DAL</td>\n",
              "      <td>24.0</td>\n",
              "      <td>203.20</td>\n",
              "      <td>100.697424</td>\n",
              "      <td>UCLA</td>\n",
              "      <td>USA</td>\n",
              "      <td>1995</td>\n",
              "      <td>1</td>\n",
              "      <td>...</td>\n",
              "      <td>3.7</td>\n",
              "      <td>2.3</td>\n",
              "      <td>0.6</td>\n",
              "      <td>-8.7</td>\n",
              "      <td>0.060</td>\n",
              "      <td>0.149</td>\n",
              "      <td>0.167</td>\n",
              "      <td>0.399</td>\n",
              "      <td>0.077</td>\n",
              "      <td>1996-97</td>\n",
              "    </tr>\n",
              "    <tr>\n",
              "      <th>4</th>\n",
              "      <td>4</td>\n",
              "      <td>Ed Pinckney</td>\n",
              "      <td>MIA</td>\n",
              "      <td>34.0</td>\n",
              "      <td>205.74</td>\n",
              "      <td>108.862080</td>\n",
              "      <td>Villanova</td>\n",
              "      <td>USA</td>\n",
              "      <td>1985</td>\n",
              "      <td>1</td>\n",
              "      <td>...</td>\n",
              "      <td>2.4</td>\n",
              "      <td>2.4</td>\n",
              "      <td>0.2</td>\n",
              "      <td>-11.2</td>\n",
              "      <td>0.109</td>\n",
              "      <td>0.179</td>\n",
              "      <td>0.127</td>\n",
              "      <td>0.611</td>\n",
              "      <td>0.040</td>\n",
              "      <td>1996-97</td>\n",
              "    </tr>\n",
              "  </tbody>\n",
              "</table>\n",
              "<p>5 rows × 22 columns</p>\n",
              "</div>"
            ],
            "text/plain": [
              "   Unnamed: 0        player_name team_abbreviation   age  player_height  \\\n",
              "0           0      Dennis Rodman               CHI  36.0         198.12   \n",
              "1           1  Dwayne Schintzius               LAC  28.0         215.90   \n",
              "2           2       Earl Cureton               TOR  39.0         205.74   \n",
              "3           3        Ed O'Bannon               DAL  24.0         203.20   \n",
              "4           4        Ed Pinckney               MIA  34.0         205.74   \n",
              "\n",
              "   player_weight                      college country draft_year draft_round  \\\n",
              "0      99.790240  Southeastern Oklahoma State     USA       1986           2   \n",
              "1     117.933920                      Florida     USA       1990           1   \n",
              "2      95.254320                Detroit Mercy     USA       1979           3   \n",
              "3     100.697424                         UCLA     USA       1995           1   \n",
              "4     108.862080                    Villanova     USA       1985           1   \n",
              "\n",
              "   ...  pts   reb  ast  net_rating  oreb_pct  dreb_pct  usg_pct  ts_pct  \\\n",
              "0  ...  5.7  16.1  3.1        16.1     0.186     0.323    0.100   0.479   \n",
              "1  ...  2.3   1.5  0.3        12.3     0.078     0.151    0.175   0.430   \n",
              "2  ...  0.8   1.0  0.4        -2.1     0.105     0.102    0.103   0.376   \n",
              "3  ...  3.7   2.3  0.6        -8.7     0.060     0.149    0.167   0.399   \n",
              "4  ...  2.4   2.4  0.2       -11.2     0.109     0.179    0.127   0.611   \n",
              "\n",
              "   ast_pct   season  \n",
              "0    0.113  1996-97  \n",
              "1    0.048  1996-97  \n",
              "2    0.148  1996-97  \n",
              "3    0.077  1996-97  \n",
              "4    0.040  1996-97  \n",
              "\n",
              "[5 rows x 22 columns]"
            ]
          },
          "execution_count": 48,
          "metadata": {},
          "output_type": "execute_result"
        }
      ],
      "source": [
        "data.head()"
      ]
    },
    {
      "cell_type": "code",
      "execution_count": 49,
      "metadata": {
        "colab": {
          "base_uri": "https://localhost:8080/"
        },
        "id": "jpqPkmVT90gV",
        "outputId": "c7a1e8b5-66b5-49f8-e164-7e920ec0a56e"
      },
      "outputs": [
        {
          "name": "stderr",
          "output_type": "stream",
          "text": [
            "/tmp/ipykernel_17314/564105249.py:2: SettingWithCopyWarning: \n",
            "A value is trying to be set on a copy of a slice from a DataFrame\n",
            "\n",
            "See the caveats in the documentation: https://pandas.pydata.org/pandas-docs/stable/user_guide/indexing.html#returning-a-view-versus-a-copy\n",
            "  temp_2003.drop(['Unnamed: 0', 'net_rating', 'oreb_pct', 'dreb_pct', 'usg_pct', 'ts_pct', 'ast_pct'], axis=1, inplace=True)\n"
          ]
        }
      ],
      "source": [
        "temp_2003 = data[(data['season'] > '2002-03') & (data['season'] < '2004-05')]\n",
        "temp_2003.drop(['Unnamed: 0', 'net_rating', 'oreb_pct', 'dreb_pct', 'usg_pct', 'ts_pct', 'ast_pct'], axis=1, inplace=True)\n",
        "data.drop(['Unnamed: 0', 'net_rating', 'oreb_pct', 'dreb_pct', 'usg_pct', 'ts_pct', 'ast_pct'], axis=1, inplace=True)\n"
      ]
    },
    {
      "cell_type": "code",
      "execution_count": 50,
      "metadata": {
        "colab": {
          "base_uri": "https://localhost:8080/"
        },
        "id": "j8YI3OM992E6",
        "outputId": "ed997cf4-649b-4fb4-cd5a-ae6bcee4ab4f"
      },
      "outputs": [
        {
          "name": "stdout",
          "output_type": "stream",
          "text": [
            "<class 'pandas.core.frame.DataFrame'>\n",
            "Int64Index: 442 entries, 3066 to 3507\n",
            "Data columns (total 15 columns):\n",
            " #   Column             Non-Null Count  Dtype  \n",
            "---  ------             --------------  -----  \n",
            " 0   player_name        442 non-null    object \n",
            " 1   team_abbreviation  442 non-null    object \n",
            " 2   age                442 non-null    float64\n",
            " 3   player_height      442 non-null    float64\n",
            " 4   player_weight      442 non-null    float64\n",
            " 5   college            442 non-null    object \n",
            " 6   country            442 non-null    object \n",
            " 7   draft_year         442 non-null    object \n",
            " 8   draft_round        442 non-null    object \n",
            " 9   draft_number       442 non-null    object \n",
            " 10  gp                 442 non-null    int64  \n",
            " 11  pts                442 non-null    float64\n",
            " 12  reb                442 non-null    float64\n",
            " 13  ast                442 non-null    float64\n",
            " 14  season             442 non-null    object \n",
            "dtypes: float64(6), int64(1), object(8)\n",
            "memory usage: 55.2+ KB\n"
          ]
        }
      ],
      "source": [
        "temp_2003.info()"
      ]
    },
    {
      "cell_type": "code",
      "execution_count": 51,
      "metadata": {
        "colab": {
          "base_uri": "https://localhost:8080/",
          "height": 357
        },
        "id": "KLBuCsQ9_dHm",
        "outputId": "b8397bd2-3e89-4a6c-fd27-14031a458567"
      },
      "outputs": [
        {
          "data": {
            "text/html": [
              "<div>\n",
              "<style scoped>\n",
              "    .dataframe tbody tr th:only-of-type {\n",
              "        vertical-align: middle;\n",
              "    }\n",
              "\n",
              "    .dataframe tbody tr th {\n",
              "        vertical-align: top;\n",
              "    }\n",
              "\n",
              "    .dataframe thead th {\n",
              "        text-align: right;\n",
              "    }\n",
              "</style>\n",
              "<table border=\"1\" class=\"dataframe\">\n",
              "  <thead>\n",
              "    <tr style=\"text-align: right;\">\n",
              "      <th></th>\n",
              "      <th>player_name</th>\n",
              "      <th>team_abbreviation</th>\n",
              "      <th>age</th>\n",
              "      <th>player_height</th>\n",
              "      <th>player_weight</th>\n",
              "      <th>college</th>\n",
              "      <th>country</th>\n",
              "      <th>draft_year</th>\n",
              "      <th>draft_round</th>\n",
              "      <th>draft_number</th>\n",
              "      <th>gp</th>\n",
              "      <th>pts</th>\n",
              "      <th>reb</th>\n",
              "      <th>ast</th>\n",
              "      <th>season</th>\n",
              "    </tr>\n",
              "  </thead>\n",
              "  <tbody>\n",
              "    <tr>\n",
              "      <th>3066</th>\n",
              "      <td>Mikki Moore</td>\n",
              "      <td>UTA</td>\n",
              "      <td>28.0</td>\n",
              "      <td>213.36</td>\n",
              "      <td>102.058200</td>\n",
              "      <td>Nebraska</td>\n",
              "      <td>USA</td>\n",
              "      <td>Undrafted</td>\n",
              "      <td>Undrafted</td>\n",
              "      <td>Undrafted</td>\n",
              "      <td>32</td>\n",
              "      <td>4.1</td>\n",
              "      <td>2.6</td>\n",
              "      <td>0.6</td>\n",
              "      <td>2003-04</td>\n",
              "    </tr>\n",
              "    <tr>\n",
              "      <th>3067</th>\n",
              "      <td>Michael Sweetney</td>\n",
              "      <td>NYK</td>\n",
              "      <td>21.0</td>\n",
              "      <td>203.20</td>\n",
              "      <td>117.933920</td>\n",
              "      <td>Georgetown</td>\n",
              "      <td>USA</td>\n",
              "      <td>2003</td>\n",
              "      <td>1</td>\n",
              "      <td>9</td>\n",
              "      <td>42</td>\n",
              "      <td>4.3</td>\n",
              "      <td>3.7</td>\n",
              "      <td>0.3</td>\n",
              "      <td>2003-04</td>\n",
              "    </tr>\n",
              "    <tr>\n",
              "      <th>3068</th>\n",
              "      <td>Milt Palacio</td>\n",
              "      <td>TOR</td>\n",
              "      <td>26.0</td>\n",
              "      <td>190.50</td>\n",
              "      <td>88.450440</td>\n",
              "      <td>Colorado State</td>\n",
              "      <td>Belize</td>\n",
              "      <td>Undrafted</td>\n",
              "      <td>Undrafted</td>\n",
              "      <td>Undrafted</td>\n",
              "      <td>59</td>\n",
              "      <td>4.4</td>\n",
              "      <td>1.7</td>\n",
              "      <td>3.1</td>\n",
              "      <td>2003-04</td>\n",
              "    </tr>\n",
              "    <tr>\n",
              "      <th>3069</th>\n",
              "      <td>Mike Wilks</td>\n",
              "      <td>HOU</td>\n",
              "      <td>25.0</td>\n",
              "      <td>180.34</td>\n",
              "      <td>81.646560</td>\n",
              "      <td>Rice</td>\n",
              "      <td>USA</td>\n",
              "      <td>Undrafted</td>\n",
              "      <td>Undrafted</td>\n",
              "      <td>Undrafted</td>\n",
              "      <td>26</td>\n",
              "      <td>1.9</td>\n",
              "      <td>0.6</td>\n",
              "      <td>0.7</td>\n",
              "      <td>2003-04</td>\n",
              "    </tr>\n",
              "    <tr>\n",
              "      <th>3070</th>\n",
              "      <td>Mike Miller</td>\n",
              "      <td>MEM</td>\n",
              "      <td>24.0</td>\n",
              "      <td>203.20</td>\n",
              "      <td>98.883056</td>\n",
              "      <td>Florida</td>\n",
              "      <td>USA</td>\n",
              "      <td>2000</td>\n",
              "      <td>1</td>\n",
              "      <td>5</td>\n",
              "      <td>65</td>\n",
              "      <td>11.1</td>\n",
              "      <td>3.3</td>\n",
              "      <td>3.6</td>\n",
              "      <td>2003-04</td>\n",
              "    </tr>\n",
              "  </tbody>\n",
              "</table>\n",
              "</div>"
            ],
            "text/plain": [
              "           player_name team_abbreviation   age  player_height  player_weight  \\\n",
              "3066       Mikki Moore               UTA  28.0         213.36     102.058200   \n",
              "3067  Michael Sweetney               NYK  21.0         203.20     117.933920   \n",
              "3068      Milt Palacio               TOR  26.0         190.50      88.450440   \n",
              "3069        Mike Wilks               HOU  25.0         180.34      81.646560   \n",
              "3070       Mike Miller               MEM  24.0         203.20      98.883056   \n",
              "\n",
              "             college country draft_year draft_round draft_number  gp   pts  \\\n",
              "3066        Nebraska     USA  Undrafted   Undrafted    Undrafted  32   4.1   \n",
              "3067      Georgetown     USA       2003           1            9  42   4.3   \n",
              "3068  Colorado State  Belize  Undrafted   Undrafted    Undrafted  59   4.4   \n",
              "3069            Rice     USA  Undrafted   Undrafted    Undrafted  26   1.9   \n",
              "3070         Florida     USA       2000           1            5  65  11.1   \n",
              "\n",
              "      reb  ast   season  \n",
              "3066  2.6  0.6  2003-04  \n",
              "3067  3.7  0.3  2003-04  \n",
              "3068  1.7  3.1  2003-04  \n",
              "3069  0.6  0.7  2003-04  \n",
              "3070  3.3  3.6  2003-04  "
            ]
          },
          "execution_count": 51,
          "metadata": {},
          "output_type": "execute_result"
        }
      ],
      "source": [
        "temp_2003.head()"
      ]
    },
    {
      "cell_type": "code",
      "execution_count": 52,
      "metadata": {
        "id": "xyCwf93GFRwS"
      },
      "outputs": [],
      "source": [
        "vince = data[data['player_name'] == 'Vince Carter']"
      ]
    },
    {
      "cell_type": "markdown",
      "metadata": {
        "id": "O2Lx2iD_s5hs"
      },
      "source": [
        "# Análise explanatória"
      ]
    },
    {
      "cell_type": "markdown",
      "metadata": {
        "id": "K3IyP07Hs5hu"
      },
      "source": [
        "Média da altura de todos os jogadores da história da NBA"
      ]
    },
    {
      "cell_type": "code",
      "execution_count": 53,
      "metadata": {
        "colab": {
          "base_uri": "https://localhost:8080/"
        },
        "id": "BF4BBMoys5hv",
        "outputId": "135fca43-a1fd-4736-a377-a3782ed0d370"
      },
      "outputs": [
        {
          "name": "stdout",
          "output_type": "stream",
          "text": [
            "A média da altura de todos os jogadores da história da NBA é de: 200.26 cm\n"
          ]
        }
      ],
      "source": [
        "media_altura = data.drop_duplicates(subset='player_name')\n",
        "media_altura = sum(media_altura['player_height']) / len(media_altura)\n",
        "print('A média da altura de todos os jogadores da história da NBA é de: ' + str(round((media_altura), 2)) + ' cm')\n"
      ]
    },
    {
      "cell_type": "markdown",
      "metadata": {
        "id": "wUju7u9qs5hw"
      },
      "source": [
        "Média das idades de todos os jogadores da história da NBA"
      ]
    },
    {
      "cell_type": "code",
      "execution_count": 54,
      "metadata": {
        "colab": {
          "base_uri": "https://localhost:8080/"
        },
        "id": "FzD-r3zjs5hx",
        "outputId": "df77f761-d6f9-45eb-83c7-a1d1645c53f4"
      },
      "outputs": [
        {
          "name": "stdout",
          "output_type": "stream",
          "text": [
            "A média das idades de todos os jogadores da história da NBA é de: 23.86 anos\n"
          ]
        }
      ],
      "source": [
        "media_age = data.drop_duplicates(subset='player_name')\n",
        "media_age = sum(media_age['age']) / len(media_age)\n",
        "print('A média das idades de todos os jogadores da história da NBA é de: ' + str(round((media_age), 2)) + ' anos')"
      ]
    },
    {
      "cell_type": "markdown",
      "metadata": {
        "id": "pOUk7F80s5hy"
      },
      "source": [
        "Média do peso de todos os jogadores da história da NBA"
      ]
    },
    {
      "cell_type": "code",
      "execution_count": 55,
      "metadata": {
        "colab": {
          "base_uri": "https://localhost:8080/"
        },
        "id": "NY1dgAh3s5hy",
        "outputId": "ba274645-ae23-47b9-9d20-b3a841a5671e"
      },
      "outputs": [
        {
          "name": "stdout",
          "output_type": "stream",
          "text": [
            "A média do peso de todos os jogadores da história da NBA é de: 98.89 Kg\n"
          ]
        }
      ],
      "source": [
        "media_peso = data.drop_duplicates(subset='player_name')\n",
        "media_peso = sum(media_peso['player_weight']) / len(media_peso)\n",
        "print('A média do peso de todos os jogadores da história da NBA é de: ' + str(round((media_peso), 2)) + ' Kg')"
      ]
    },
    {
      "cell_type": "markdown",
      "metadata": {
        "id": "tPpQELy8s5hz"
      },
      "source": [
        "# Análise Exploratória"
      ]
    },
    {
      "cell_type": "markdown",
      "metadata": {
        "id": "_I3fhbjys5h0"
      },
      "source": [
        "### Numérica contínua"
      ]
    },
    {
      "cell_type": "code",
      "execution_count": 56,
      "metadata": {
        "colab": {
          "base_uri": "https://localhost:8080/",
          "height": 279
        },
        "id": "_6uG_jrKs5h1",
        "outputId": "e42c1c7c-6ec9-433d-ea4a-048d86c537d9"
      },
      "outputs": [
        {
          "data": {
            "image/png": "[encoded data removed]",
            "text/plain": [
              "<Figure size 640x480 with 1 Axes>"
            ]
          },
          "metadata": {},
          "output_type": "display_data"
        }
      ],
      "source": [
        "vince.plot.line(x='age', y='pts')\n",
        "plt.show()"
      ]
    },
    {
      "cell_type": "markdown",
      "metadata": {
        "id": "WfuMd7u4s5h3"
      },
      "source": [
        "### Numérica discreta"
      ]
    },
    {
      "cell_type": "code",
      "execution_count": 57,
      "metadata": {
        "colab": {
          "base_uri": "https://localhost:8080/",
          "height": 315
        },
        "id": "kUjcFHVbs5h7",
        "outputId": "5cf806f5-6ea0-4c6b-906c-ffa51af14c35"
      },
      "outputs": [
        {
          "data": {
            "text/plain": [
              "<AxesSubplot: >"
            ]
          },
          "execution_count": 57,
          "metadata": {},
          "output_type": "execute_result"
        },
        {
          "data": {
            "image/png": "[encoded data removed]",
            "text/plain": [
              "<Figure size 640x480 with 1 Axes>"
            ]
          },
          "metadata": {},
          "output_type": "display_data"
        }
      ],
      "source": [
        "# quantidade de jogadores na liga que estudaram em Duke por temporada\n",
        "\n",
        "duke = data[data['college'] == 'Duke']\n",
        "duke = duke['player_name college season'.split()]\n",
        "duke_players_per_season = duke['season'].value_counts(sort=False)\n",
        "duke_players_per_season.plot.bar()"
      ]
    },
    {
      "cell_type": "markdown",
      "metadata": {
        "id": "oYOSn6_Gs5h-"
      },
      "source": [
        "### Categórica nominais"
      ]
    },
    {
      "cell_type": "code",
      "execution_count": 58,
      "metadata": {
        "colab": {
          "base_uri": "https://localhost:8080/",
          "height": 661
        },
        "id": "9EGhL3fws5h_",
        "outputId": "1bf7d9ba-ad48-49b1-fe3c-f5b2a6833770"
      },
      "outputs": [
        {
          "data": {
            "text/html": [
              "<div>\n",
              "<style scoped>\n",
              "    .dataframe tbody tr th:only-of-type {\n",
              "        vertical-align: middle;\n",
              "    }\n",
              "\n",
              "    .dataframe tbody tr th {\n",
              "        vertical-align: top;\n",
              "    }\n",
              "\n",
              "    .dataframe thead th {\n",
              "        text-align: right;\n",
              "    }\n",
              "</style>\n",
              "<table border=\"1\" class=\"dataframe\">\n",
              "  <thead>\n",
              "    <tr style=\"text-align: right;\">\n",
              "      <th></th>\n",
              "      <th>player_name</th>\n",
              "      <th>team_abbreviation</th>\n",
              "      <th>age</th>\n",
              "      <th>player_height</th>\n",
              "      <th>player_weight</th>\n",
              "      <th>college</th>\n",
              "      <th>country</th>\n",
              "      <th>draft_year</th>\n",
              "      <th>draft_round</th>\n",
              "      <th>draft_number</th>\n",
              "      <th>gp</th>\n",
              "      <th>pts</th>\n",
              "      <th>reb</th>\n",
              "      <th>ast</th>\n",
              "      <th>season</th>\n",
              "    </tr>\n",
              "  </thead>\n",
              "  <tbody>\n",
              "    <tr>\n",
              "      <th>138</th>\n",
              "      <td>A.C. Green</td>\n",
              "      <td>DAL</td>\n",
              "      <td>33.0</td>\n",
              "      <td>205.74</td>\n",
              "      <td>102.058200</td>\n",
              "      <td>Oregon State</td>\n",
              "      <td>USA</td>\n",
              "      <td>1985</td>\n",
              "      <td>1</td>\n",
              "      <td>23</td>\n",
              "      <td>83</td>\n",
              "      <td>7.2</td>\n",
              "      <td>7.9</td>\n",
              "      <td>0.8</td>\n",
              "      <td>1996-97</td>\n",
              "    </tr>\n",
              "    <tr>\n",
              "      <th>1319</th>\n",
              "      <td>A.J. Bramlett</td>\n",
              "      <td>CLE</td>\n",
              "      <td>23.0</td>\n",
              "      <td>208.28</td>\n",
              "      <td>102.965384</td>\n",
              "      <td>Arizona</td>\n",
              "      <td>USA</td>\n",
              "      <td>1999</td>\n",
              "      <td>2</td>\n",
              "      <td>39</td>\n",
              "      <td>8</td>\n",
              "      <td>1.0</td>\n",
              "      <td>2.8</td>\n",
              "      <td>0.0</td>\n",
              "      <td>1999-00</td>\n",
              "    </tr>\n",
              "    <tr>\n",
              "      <th>1911</th>\n",
              "      <td>A.J. Guyton</td>\n",
              "      <td>CHI</td>\n",
              "      <td>23.0</td>\n",
              "      <td>185.42</td>\n",
              "      <td>81.646560</td>\n",
              "      <td>Indiana</td>\n",
              "      <td>USA</td>\n",
              "      <td>2000</td>\n",
              "      <td>2</td>\n",
              "      <td>32</td>\n",
              "      <td>33</td>\n",
              "      <td>6.0</td>\n",
              "      <td>1.1</td>\n",
              "      <td>1.9</td>\n",
              "      <td>2000-01</td>\n",
              "    </tr>\n",
              "    <tr>\n",
              "      <th>9261</th>\n",
              "      <td>AJ Hammons</td>\n",
              "      <td>DAL</td>\n",
              "      <td>24.0</td>\n",
              "      <td>213.36</td>\n",
              "      <td>117.933920</td>\n",
              "      <td>Purdue</td>\n",
              "      <td>USA</td>\n",
              "      <td>2016</td>\n",
              "      <td>2</td>\n",
              "      <td>46</td>\n",
              "      <td>22</td>\n",
              "      <td>2.2</td>\n",
              "      <td>1.6</td>\n",
              "      <td>0.2</td>\n",
              "      <td>2016-17</td>\n",
              "    </tr>\n",
              "    <tr>\n",
              "      <th>5955</th>\n",
              "      <td>AJ Price</td>\n",
              "      <td>IND</td>\n",
              "      <td>23.0</td>\n",
              "      <td>187.96</td>\n",
              "      <td>82.100152</td>\n",
              "      <td>Connecticut</td>\n",
              "      <td>USA</td>\n",
              "      <td>2009</td>\n",
              "      <td>2</td>\n",
              "      <td>52</td>\n",
              "      <td>56</td>\n",
              "      <td>7.3</td>\n",
              "      <td>1.6</td>\n",
              "      <td>1.9</td>\n",
              "      <td>2009-10</td>\n",
              "    </tr>\n",
              "    <tr>\n",
              "      <th>...</th>\n",
              "      <td>...</td>\n",
              "      <td>...</td>\n",
              "      <td>...</td>\n",
              "      <td>...</td>\n",
              "      <td>...</td>\n",
              "      <td>...</td>\n",
              "      <td>...</td>\n",
              "      <td>...</td>\n",
              "      <td>...</td>\n",
              "      <td>...</td>\n",
              "      <td>...</td>\n",
              "      <td>...</td>\n",
              "      <td>...</td>\n",
              "      <td>...</td>\n",
              "      <td>...</td>\n",
              "    </tr>\n",
              "    <tr>\n",
              "      <th>10799</th>\n",
              "      <td>Zion Williamson</td>\n",
              "      <td>NOP</td>\n",
              "      <td>19.0</td>\n",
              "      <td>198.12</td>\n",
              "      <td>128.820128</td>\n",
              "      <td>Duke</td>\n",
              "      <td>USA</td>\n",
              "      <td>2019</td>\n",
              "      <td>1</td>\n",
              "      <td>1</td>\n",
              "      <td>24</td>\n",
              "      <td>22.5</td>\n",
              "      <td>6.3</td>\n",
              "      <td>2.1</td>\n",
              "      <td>2019-20</td>\n",
              "    </tr>\n",
              "    <tr>\n",
              "      <th>8347</th>\n",
              "      <td>Zoran Dragic</td>\n",
              "      <td>MIA</td>\n",
              "      <td>26.0</td>\n",
              "      <td>195.58</td>\n",
              "      <td>90.718400</td>\n",
              "      <td>None</td>\n",
              "      <td>Slovenia</td>\n",
              "      <td>Undrafted</td>\n",
              "      <td>Undrafted</td>\n",
              "      <td>Undrafted</td>\n",
              "      <td>16</td>\n",
              "      <td>1.8</td>\n",
              "      <td>0.5</td>\n",
              "      <td>0.3</td>\n",
              "      <td>2014-15</td>\n",
              "    </tr>\n",
              "    <tr>\n",
              "      <th>3205</th>\n",
              "      <td>Zoran Planinic</td>\n",
              "      <td>NJN</td>\n",
              "      <td>21.0</td>\n",
              "      <td>200.66</td>\n",
              "      <td>88.450440</td>\n",
              "      <td>None</td>\n",
              "      <td>Croatia</td>\n",
              "      <td>2003</td>\n",
              "      <td>1</td>\n",
              "      <td>22</td>\n",
              "      <td>49</td>\n",
              "      <td>3.1</td>\n",
              "      <td>1.1</td>\n",
              "      <td>1.4</td>\n",
              "      <td>2003-04</td>\n",
              "    </tr>\n",
              "    <tr>\n",
              "      <th>580</th>\n",
              "      <td>Zydrunas Ilgauskas</td>\n",
              "      <td>CLE</td>\n",
              "      <td>23.0</td>\n",
              "      <td>220.98</td>\n",
              "      <td>117.933920</td>\n",
              "      <td>None</td>\n",
              "      <td>Lithuania</td>\n",
              "      <td>1996</td>\n",
              "      <td>1</td>\n",
              "      <td>20</td>\n",
              "      <td>82</td>\n",
              "      <td>13.9</td>\n",
              "      <td>8.8</td>\n",
              "      <td>0.9</td>\n",
              "      <td>1997-98</td>\n",
              "    </tr>\n",
              "    <tr>\n",
              "      <th>10798</th>\n",
              "      <td>Zylan Cheatham</td>\n",
              "      <td>NOP</td>\n",
              "      <td>24.0</td>\n",
              "      <td>195.58</td>\n",
              "      <td>99.790240</td>\n",
              "      <td>Arizona State</td>\n",
              "      <td>USA</td>\n",
              "      <td>Undrafted</td>\n",
              "      <td>Undrafted</td>\n",
              "      <td>Undrafted</td>\n",
              "      <td>4</td>\n",
              "      <td>3.0</td>\n",
              "      <td>2.3</td>\n",
              "      <td>0.8</td>\n",
              "      <td>2019-20</td>\n",
              "    </tr>\n",
              "  </tbody>\n",
              "</table>\n",
              "<p>2463 rows × 15 columns</p>\n",
              "</div>"
            ],
            "text/plain": [
              "              player_name team_abbreviation   age  player_height  \\\n",
              "138            A.C. Green               DAL  33.0         205.74   \n",
              "1319        A.J. Bramlett               CLE  23.0         208.28   \n",
              "1911          A.J. Guyton               CHI  23.0         185.42   \n",
              "9261           AJ Hammons               DAL  24.0         213.36   \n",
              "5955             AJ Price               IND  23.0         187.96   \n",
              "...                   ...               ...   ...            ...   \n",
              "10799     Zion Williamson               NOP  19.0         198.12   \n",
              "8347         Zoran Dragic               MIA  26.0         195.58   \n",
              "3205       Zoran Planinic               NJN  21.0         200.66   \n",
              "580    Zydrunas Ilgauskas               CLE  23.0         220.98   \n",
              "10798      Zylan Cheatham               NOP  24.0         195.58   \n",
              "\n",
              "       player_weight        college    country draft_year draft_round  \\\n",
              "138       102.058200   Oregon State        USA       1985           1   \n",
              "1319      102.965384        Arizona        USA       1999           2   \n",
              "1911       81.646560        Indiana        USA       2000           2   \n",
              "9261      117.933920         Purdue        USA       2016           2   \n",
              "5955       82.100152    Connecticut        USA       2009           2   \n",
              "...              ...            ...        ...        ...         ...   \n",
              "10799     128.820128           Duke        USA       2019           1   \n",
              "8347       90.718400           None   Slovenia  Undrafted   Undrafted   \n",
              "3205       88.450440           None    Croatia       2003           1   \n",
              "580       117.933920           None  Lithuania       1996           1   \n",
              "10798      99.790240  Arizona State        USA  Undrafted   Undrafted   \n",
              "\n",
              "      draft_number  gp   pts  reb  ast   season  \n",
              "138             23  83   7.2  7.9  0.8  1996-97  \n",
              "1319            39   8   1.0  2.8  0.0  1999-00  \n",
              "1911            32  33   6.0  1.1  1.9  2000-01  \n",
              "9261            46  22   2.2  1.6  0.2  2016-17  \n",
              "5955            52  56   7.3  1.6  1.9  2009-10  \n",
              "...            ...  ..   ...  ...  ...      ...  \n",
              "10799            1  24  22.5  6.3  2.1  2019-20  \n",
              "8347     Undrafted  16   1.8  0.5  0.3  2014-15  \n",
              "3205            22  49   3.1  1.1  1.4  2003-04  \n",
              "580             20  82  13.9  8.8  0.9  1997-98  \n",
              "10798    Undrafted   4   3.0  2.3  0.8  2019-20  \n",
              "\n",
              "[2463 rows x 15 columns]"
            ]
          },
          "execution_count": 58,
          "metadata": {},
          "output_type": "execute_result"
        }
      ],
      "source": [
        "# ordenar os jogadores por nome\n",
        "\n",
        "all_players = data.drop_duplicates(subset='player_name')\n",
        "\n",
        "all_players.sort_values('player_name')\n"
      ]
    },
    {
      "cell_type": "markdown",
      "metadata": {
        "id": "4ltRCUXqs5iA"
      },
      "source": [
        "### Categórica ordinal"
      ]
    },
    {
      "cell_type": "code",
      "execution_count": 59,
      "metadata": {
        "colab": {
          "base_uri": "https://localhost:8080/",
          "height": 661
        },
        "id": "XrZ60hPis5iB",
        "outputId": "16c8c483-f1a1-441d-9734-aec86e126142"
      },
      "outputs": [
        {
          "data": {
            "text/html": [
              "<div>\n",
              "<style scoped>\n",
              "    .dataframe tbody tr th:only-of-type {\n",
              "        vertical-align: middle;\n",
              "    }\n",
              "\n",
              "    .dataframe tbody tr th {\n",
              "        vertical-align: top;\n",
              "    }\n",
              "\n",
              "    .dataframe thead th {\n",
              "        text-align: right;\n",
              "    }\n",
              "</style>\n",
              "<table border=\"1\" class=\"dataframe\">\n",
              "  <thead>\n",
              "    <tr style=\"text-align: right;\">\n",
              "      <th></th>\n",
              "      <th>player_name</th>\n",
              "      <th>team_abbreviation</th>\n",
              "      <th>age</th>\n",
              "      <th>player_height</th>\n",
              "      <th>player_weight</th>\n",
              "      <th>college</th>\n",
              "      <th>country</th>\n",
              "      <th>draft_year</th>\n",
              "      <th>draft_round</th>\n",
              "      <th>draft_number</th>\n",
              "      <th>gp</th>\n",
              "      <th>pts</th>\n",
              "      <th>reb</th>\n",
              "      <th>ast</th>\n",
              "      <th>season</th>\n",
              "    </tr>\n",
              "  </thead>\n",
              "  <tbody>\n",
              "    <tr>\n",
              "      <th>10572</th>\n",
              "      <td>James Harden</td>\n",
              "      <td>HOU</td>\n",
              "      <td>29.0</td>\n",
              "      <td>195.58</td>\n",
              "      <td>99.790240</td>\n",
              "      <td>Arizona State</td>\n",
              "      <td>USA</td>\n",
              "      <td>2009</td>\n",
              "      <td>1</td>\n",
              "      <td>3</td>\n",
              "      <td>78</td>\n",
              "      <td>36.1</td>\n",
              "      <td>6.6</td>\n",
              "      <td>7.5</td>\n",
              "      <td>2018-19</td>\n",
              "    </tr>\n",
              "    <tr>\n",
              "      <th>4342</th>\n",
              "      <td>Kobe Bryant</td>\n",
              "      <td>LAL</td>\n",
              "      <td>27.0</td>\n",
              "      <td>198.12</td>\n",
              "      <td>99.790240</td>\n",
              "      <td>None</td>\n",
              "      <td>USA</td>\n",
              "      <td>1996</td>\n",
              "      <td>1</td>\n",
              "      <td>13</td>\n",
              "      <td>80</td>\n",
              "      <td>35.4</td>\n",
              "      <td>5.3</td>\n",
              "      <td>4.5</td>\n",
              "      <td>2005-06</td>\n",
              "    </tr>\n",
              "    <tr>\n",
              "      <th>4124</th>\n",
              "      <td>Allen Iverson</td>\n",
              "      <td>PHI</td>\n",
              "      <td>31.0</td>\n",
              "      <td>182.88</td>\n",
              "      <td>74.842680</td>\n",
              "      <td>Georgetown</td>\n",
              "      <td>USA</td>\n",
              "      <td>1996</td>\n",
              "      <td>1</td>\n",
              "      <td>1</td>\n",
              "      <td>72</td>\n",
              "      <td>33.0</td>\n",
              "      <td>3.2</td>\n",
              "      <td>7.4</td>\n",
              "      <td>2005-06</td>\n",
              "    </tr>\n",
              "    <tr>\n",
              "      <th>2953</th>\n",
              "      <td>Tracy McGrady</td>\n",
              "      <td>ORL</td>\n",
              "      <td>24.0</td>\n",
              "      <td>203.20</td>\n",
              "      <td>95.254320</td>\n",
              "      <td>None</td>\n",
              "      <td>USA</td>\n",
              "      <td>1997</td>\n",
              "      <td>1</td>\n",
              "      <td>9</td>\n",
              "      <td>75</td>\n",
              "      <td>32.1</td>\n",
              "      <td>6.5</td>\n",
              "      <td>5.5</td>\n",
              "      <td>2002-03</td>\n",
              "    </tr>\n",
              "    <tr>\n",
              "      <th>7928</th>\n",
              "      <td>Kevin Durant</td>\n",
              "      <td>OKC</td>\n",
              "      <td>25.0</td>\n",
              "      <td>205.74</td>\n",
              "      <td>108.862080</td>\n",
              "      <td>Texas</td>\n",
              "      <td>USA</td>\n",
              "      <td>2007</td>\n",
              "      <td>1</td>\n",
              "      <td>2</td>\n",
              "      <td>81</td>\n",
              "      <td>32.0</td>\n",
              "      <td>7.4</td>\n",
              "      <td>5.5</td>\n",
              "      <td>2013-14</td>\n",
              "    </tr>\n",
              "    <tr>\n",
              "      <th>...</th>\n",
              "      <td>...</td>\n",
              "      <td>...</td>\n",
              "      <td>...</td>\n",
              "      <td>...</td>\n",
              "      <td>...</td>\n",
              "      <td>...</td>\n",
              "      <td>...</td>\n",
              "      <td>...</td>\n",
              "      <td>...</td>\n",
              "      <td>...</td>\n",
              "      <td>...</td>\n",
              "      <td>...</td>\n",
              "      <td>...</td>\n",
              "      <td>...</td>\n",
              "      <td>...</td>\n",
              "    </tr>\n",
              "    <tr>\n",
              "      <th>11934</th>\n",
              "      <td>David Johnson</td>\n",
              "      <td>TOR</td>\n",
              "      <td>21.0</td>\n",
              "      <td>193.04</td>\n",
              "      <td>92.079176</td>\n",
              "      <td>Louisville</td>\n",
              "      <td>USA</td>\n",
              "      <td>2021</td>\n",
              "      <td>2</td>\n",
              "      <td>47</td>\n",
              "      <td>2</td>\n",
              "      <td>0.0</td>\n",
              "      <td>0.0</td>\n",
              "      <td>0.0</td>\n",
              "      <td>2021-22</td>\n",
              "    </tr>\n",
              "    <tr>\n",
              "      <th>10297</th>\n",
              "      <td>Donte Grantham</td>\n",
              "      <td>OKC</td>\n",
              "      <td>24.0</td>\n",
              "      <td>203.20</td>\n",
              "      <td>97.522280</td>\n",
              "      <td>Clemson</td>\n",
              "      <td>USA</td>\n",
              "      <td>Undrafted</td>\n",
              "      <td>Undrafted</td>\n",
              "      <td>Undrafted</td>\n",
              "      <td>3</td>\n",
              "      <td>0.0</td>\n",
              "      <td>0.0</td>\n",
              "      <td>0.0</td>\n",
              "      <td>2018-19</td>\n",
              "    </tr>\n",
              "    <tr>\n",
              "      <th>3263</th>\n",
              "      <td>Slavko Vranes</td>\n",
              "      <td>POR</td>\n",
              "      <td>21.0</td>\n",
              "      <td>226.06</td>\n",
              "      <td>124.737800</td>\n",
              "      <td>None</td>\n",
              "      <td>USA</td>\n",
              "      <td>2003</td>\n",
              "      <td>2</td>\n",
              "      <td>39</td>\n",
              "      <td>1</td>\n",
              "      <td>0.0</td>\n",
              "      <td>0.0</td>\n",
              "      <td>0.0</td>\n",
              "      <td>2003-04</td>\n",
              "    </tr>\n",
              "    <tr>\n",
              "      <th>11896</th>\n",
              "      <td>Ade Murkey</td>\n",
              "      <td>SAC</td>\n",
              "      <td>24.0</td>\n",
              "      <td>195.58</td>\n",
              "      <td>90.718400</td>\n",
              "      <td>Denver</td>\n",
              "      <td>USA</td>\n",
              "      <td>Undrafted</td>\n",
              "      <td>Undrafted</td>\n",
              "      <td>Undrafted</td>\n",
              "      <td>1</td>\n",
              "      <td>0.0</td>\n",
              "      <td>0.0</td>\n",
              "      <td>0.0</td>\n",
              "      <td>2021-22</td>\n",
              "    </tr>\n",
              "    <tr>\n",
              "      <th>9617</th>\n",
              "      <td>Erik McCree</td>\n",
              "      <td>UTA</td>\n",
              "      <td>24.0</td>\n",
              "      <td>203.20</td>\n",
              "      <td>102.058200</td>\n",
              "      <td>Louisiana Tech</td>\n",
              "      <td>USA</td>\n",
              "      <td>Undrafted</td>\n",
              "      <td>Undrafted</td>\n",
              "      <td>Undrafted</td>\n",
              "      <td>4</td>\n",
              "      <td>0.0</td>\n",
              "      <td>0.3</td>\n",
              "      <td>0.0</td>\n",
              "      <td>2017-18</td>\n",
              "    </tr>\n",
              "  </tbody>\n",
              "</table>\n",
              "<p>2463 rows × 15 columns</p>\n",
              "</div>"
            ],
            "text/plain": [
              "          player_name team_abbreviation   age  player_height  player_weight  \\\n",
              "10572    James Harden               HOU  29.0         195.58      99.790240   \n",
              "4342      Kobe Bryant               LAL  27.0         198.12      99.790240   \n",
              "4124    Allen Iverson               PHI  31.0         182.88      74.842680   \n",
              "2953    Tracy McGrady               ORL  24.0         203.20      95.254320   \n",
              "7928     Kevin Durant               OKC  25.0         205.74     108.862080   \n",
              "...               ...               ...   ...            ...            ...   \n",
              "11934   David Johnson               TOR  21.0         193.04      92.079176   \n",
              "10297  Donte Grantham               OKC  24.0         203.20      97.522280   \n",
              "3263    Slavko Vranes               POR  21.0         226.06     124.737800   \n",
              "11896      Ade Murkey               SAC  24.0         195.58      90.718400   \n",
              "9617      Erik McCree               UTA  24.0         203.20     102.058200   \n",
              "\n",
              "              college country draft_year draft_round draft_number  gp   pts  \\\n",
              "10572   Arizona State     USA       2009           1            3  78  36.1   \n",
              "4342             None     USA       1996           1           13  80  35.4   \n",
              "4124       Georgetown     USA       1996           1            1  72  33.0   \n",
              "2953             None     USA       1997           1            9  75  32.1   \n",
              "7928            Texas     USA       2007           1            2  81  32.0   \n",
              "...               ...     ...        ...         ...          ...  ..   ...   \n",
              "11934      Louisville     USA       2021           2           47   2   0.0   \n",
              "10297         Clemson     USA  Undrafted   Undrafted    Undrafted   3   0.0   \n",
              "3263             None     USA       2003           2           39   1   0.0   \n",
              "11896          Denver     USA  Undrafted   Undrafted    Undrafted   1   0.0   \n",
              "9617   Louisiana Tech     USA  Undrafted   Undrafted    Undrafted   4   0.0   \n",
              "\n",
              "       reb  ast   season  \n",
              "10572  6.6  7.5  2018-19  \n",
              "4342   5.3  4.5  2005-06  \n",
              "4124   3.2  7.4  2005-06  \n",
              "2953   6.5  5.5  2002-03  \n",
              "7928   7.4  5.5  2013-14  \n",
              "...    ...  ...      ...  \n",
              "11934  0.0  0.0  2021-22  \n",
              "10297  0.0  0.0  2018-19  \n",
              "3263   0.0  0.0  2003-04  \n",
              "11896  0.0  0.0  2021-22  \n",
              "9617   0.3  0.0  2017-18  \n",
              "\n",
              "[2463 rows x 15 columns]"
            ]
          },
          "execution_count": 59,
          "metadata": {},
          "output_type": "execute_result"
        }
      ],
      "source": [
        "# ordenar os jogadores por maior pts \n",
        "\n",
        "all_players = data.sort_values('pts', ascending=False)\n",
        "all_players = all_players.drop_duplicates(subset='player_name')\n",
        "all_players"
      ]
    },
    {
      "cell_type": "markdown",
      "metadata": {
        "id": "6QRpMcUss5iC"
      },
      "source": [
        "# Qualitativo"
      ]
    },
    {
      "cell_type": "code",
      "execution_count": 60,
      "metadata": {
        "colab": {
          "base_uri": "https://localhost:8080/",
          "height": 805
        },
        "id": "vA1uSpuvs5iE",
        "outputId": "f69fc626-7388-41c8-da93-f44db405dfb7"
      },
      "outputs": [
        {
          "name": "stderr",
          "output_type": "stream",
          "text": [
            "/tmp/ipykernel_17314/3606657878.py:4: SettingWithCopyWarning: \n",
            "A value is trying to be set on a copy of a slice from a DataFrame.\n",
            "Try using .loc[row_indexer,col_indexer] = value instead\n",
            "\n",
            "See the caveats in the documentation: https://pandas.pydata.org/pandas-docs/stable/user_guide/indexing.html#returning-a-view-versus-a-copy\n",
            "  qualitativo['foreign'] = data['country']\n"
          ]
        },
        {
          "data": {
            "text/html": [
              "<div>\n",
              "<style scoped>\n",
              "    .dataframe tbody tr th:only-of-type {\n",
              "        vertical-align: middle;\n",
              "    }\n",
              "\n",
              "    .dataframe tbody tr th {\n",
              "        vertical-align: top;\n",
              "    }\n",
              "\n",
              "    .dataframe thead th {\n",
              "        text-align: right;\n",
              "    }\n",
              "</style>\n",
              "<table border=\"1\" class=\"dataframe\">\n",
              "  <thead>\n",
              "    <tr style=\"text-align: right;\">\n",
              "      <th></th>\n",
              "      <th>player_name</th>\n",
              "      <th>country</th>\n",
              "      <th>foreign</th>\n",
              "    </tr>\n",
              "  </thead>\n",
              "  <tbody>\n",
              "    <tr>\n",
              "      <th>3066</th>\n",
              "      <td>Mikki Moore</td>\n",
              "      <td>USA</td>\n",
              "      <td>No</td>\n",
              "    </tr>\n",
              "    <tr>\n",
              "      <th>3067</th>\n",
              "      <td>Michael Sweetney</td>\n",
              "      <td>USA</td>\n",
              "      <td>No</td>\n",
              "    </tr>\n",
              "    <tr>\n",
              "      <th>3068</th>\n",
              "      <td>Milt Palacio</td>\n",
              "      <td>Belize</td>\n",
              "      <td>Yes</td>\n",
              "    </tr>\n",
              "    <tr>\n",
              "      <th>3069</th>\n",
              "      <td>Mike Wilks</td>\n",
              "      <td>USA</td>\n",
              "      <td>No</td>\n",
              "    </tr>\n",
              "    <tr>\n",
              "      <th>3070</th>\n",
              "      <td>Mike Miller</td>\n",
              "      <td>USA</td>\n",
              "      <td>No</td>\n",
              "    </tr>\n",
              "    <tr>\n",
              "      <th>3071</th>\n",
              "      <td>Mike James</td>\n",
              "      <td>USA</td>\n",
              "      <td>No</td>\n",
              "    </tr>\n",
              "    <tr>\n",
              "      <th>3072</th>\n",
              "      <td>Mike Dunleavy</td>\n",
              "      <td>USA</td>\n",
              "      <td>No</td>\n",
              "    </tr>\n",
              "    <tr>\n",
              "      <th>3073</th>\n",
              "      <td>Mitchell Butler</td>\n",
              "      <td>USA</td>\n",
              "      <td>No</td>\n",
              "    </tr>\n",
              "    <tr>\n",
              "      <th>3074</th>\n",
              "      <td>Mike Bibby</td>\n",
              "      <td>USA</td>\n",
              "      <td>No</td>\n",
              "    </tr>\n",
              "    <tr>\n",
              "      <th>3075</th>\n",
              "      <td>Mickael Pietrus</td>\n",
              "      <td>France</td>\n",
              "      <td>Yes</td>\n",
              "    </tr>\n",
              "    <tr>\n",
              "      <th>3076</th>\n",
              "      <td>Michael Stewart</td>\n",
              "      <td>USA</td>\n",
              "      <td>No</td>\n",
              "    </tr>\n",
              "    <tr>\n",
              "      <th>3077</th>\n",
              "      <td>Melvin Ely</td>\n",
              "      <td>USA</td>\n",
              "      <td>No</td>\n",
              "    </tr>\n",
              "    <tr>\n",
              "      <th>3078</th>\n",
              "      <td>Michael Redd</td>\n",
              "      <td>USA</td>\n",
              "      <td>No</td>\n",
              "    </tr>\n",
              "    <tr>\n",
              "      <th>3079</th>\n",
              "      <td>Michael Olowokandi</td>\n",
              "      <td>Nigeria</td>\n",
              "      <td>Yes</td>\n",
              "    </tr>\n",
              "    <tr>\n",
              "      <th>3080</th>\n",
              "      <td>Michael Finley</td>\n",
              "      <td>USA</td>\n",
              "      <td>No</td>\n",
              "    </tr>\n",
              "    <tr>\n",
              "      <th>3081</th>\n",
              "      <td>Michael Doleac</td>\n",
              "      <td>USA</td>\n",
              "      <td>No</td>\n",
              "    </tr>\n",
              "    <tr>\n",
              "      <th>3082</th>\n",
              "      <td>Michael Curry</td>\n",
              "      <td>USA</td>\n",
              "      <td>No</td>\n",
              "    </tr>\n",
              "    <tr>\n",
              "      <th>3083</th>\n",
              "      <td>Michael Bradley</td>\n",
              "      <td>USA</td>\n",
              "      <td>No</td>\n",
              "    </tr>\n",
              "    <tr>\n",
              "      <th>3084</th>\n",
              "      <td>Metta World Peace</td>\n",
              "      <td>USA</td>\n",
              "      <td>No</td>\n",
              "    </tr>\n",
              "    <tr>\n",
              "      <th>3085</th>\n",
              "      <td>Mengke Bateer</td>\n",
              "      <td>China</td>\n",
              "      <td>Yes</td>\n",
              "    </tr>\n",
              "  </tbody>\n",
              "</table>\n",
              "</div>"
            ],
            "text/plain": [
              "             player_name  country foreign\n",
              "3066         Mikki Moore      USA      No\n",
              "3067    Michael Sweetney      USA      No\n",
              "3068        Milt Palacio   Belize     Yes\n",
              "3069          Mike Wilks      USA      No\n",
              "3070         Mike Miller      USA      No\n",
              "3071          Mike James      USA      No\n",
              "3072       Mike Dunleavy      USA      No\n",
              "3073     Mitchell Butler      USA      No\n",
              "3074          Mike Bibby      USA      No\n",
              "3075     Mickael Pietrus   France     Yes\n",
              "3076     Michael Stewart      USA      No\n",
              "3077          Melvin Ely      USA      No\n",
              "3078        Michael Redd      USA      No\n",
              "3079  Michael Olowokandi  Nigeria     Yes\n",
              "3080      Michael Finley      USA      No\n",
              "3081      Michael Doleac      USA      No\n",
              "3082       Michael Curry      USA      No\n",
              "3083     Michael Bradley      USA      No\n",
              "3084   Metta World Peace      USA      No\n",
              "3085       Mengke Bateer    China     Yes"
            ]
          },
          "execution_count": 60,
          "metadata": {},
          "output_type": "execute_result"
        }
      ],
      "source": [
        "qualitativo = temp_2003[['player_name', 'country']]\n",
        "qualitativo\n",
        "\n",
        "qualitativo['foreign'] = data['country']\n",
        "qualitativo.loc[qualitativo['country'] == 'USA', 'foreign'] = 'No'\n",
        "qualitativo.loc[qualitativo['country'] != 'USA', 'foreign'] = 'Yes'\n",
        "\n",
        "\n",
        "qualitativo.head(20)"
      ]
    },
    {
      "cell_type": "markdown",
      "metadata": {
        "id": "7sAMkkkws5iF"
      },
      "source": [
        "# Quantitativo"
      ]
    },
    {
      "cell_type": "code",
      "execution_count": 61,
      "metadata": {
        "colab": {
          "base_uri": "https://localhost:8080/",
          "height": 582
        },
        "id": "HcWSSCPSs5iG",
        "outputId": "1e8929fd-e970-4160-a4ff-cbae55a5d008"
      },
      "outputs": [
        {
          "data": {
            "text/html": [
              "<div>\n",
              "<style scoped>\n",
              "    .dataframe tbody tr th:only-of-type {\n",
              "        vertical-align: middle;\n",
              "    }\n",
              "\n",
              "    .dataframe tbody tr th {\n",
              "        vertical-align: top;\n",
              "    }\n",
              "\n",
              "    .dataframe thead th {\n",
              "        text-align: right;\n",
              "    }\n",
              "</style>\n",
              "<table border=\"1\" class=\"dataframe\">\n",
              "  <thead>\n",
              "    <tr style=\"text-align: right;\">\n",
              "      <th></th>\n",
              "      <th>player_name</th>\n",
              "      <th>gp</th>\n",
              "      <th>pts</th>\n",
              "      <th>reb</th>\n",
              "      <th>ast</th>\n",
              "    </tr>\n",
              "  </thead>\n",
              "  <tbody>\n",
              "    <tr>\n",
              "      <th>7660</th>\n",
              "      <td>Ray Allen</td>\n",
              "      <td>73</td>\n",
              "      <td>9.6</td>\n",
              "      <td>2.8</td>\n",
              "      <td>2.0</td>\n",
              "    </tr>\n",
              "    <tr>\n",
              "      <th>7662</th>\n",
              "      <td>Rashard Lewis</td>\n",
              "      <td>60</td>\n",
              "      <td>4.5</td>\n",
              "      <td>1.8</td>\n",
              "      <td>1.0</td>\n",
              "    </tr>\n",
              "    <tr>\n",
              "      <th>7698</th>\n",
              "      <td>DeAndre Liggins</td>\n",
              "      <td>1</td>\n",
              "      <td>2.0</td>\n",
              "      <td>1.0</td>\n",
              "      <td>0.0</td>\n",
              "    </tr>\n",
              "    <tr>\n",
              "      <th>7721</th>\n",
              "      <td>Chris Andersen</td>\n",
              "      <td>72</td>\n",
              "      <td>6.6</td>\n",
              "      <td>5.3</td>\n",
              "      <td>0.3</td>\n",
              "    </tr>\n",
              "    <tr>\n",
              "      <th>7723</th>\n",
              "      <td>Chris Bosh</td>\n",
              "      <td>79</td>\n",
              "      <td>16.2</td>\n",
              "      <td>6.6</td>\n",
              "      <td>1.1</td>\n",
              "    </tr>\n",
              "    <tr>\n",
              "      <th>7736</th>\n",
              "      <td>Roger Mason Jr.</td>\n",
              "      <td>25</td>\n",
              "      <td>3.0</td>\n",
              "      <td>0.9</td>\n",
              "      <td>0.8</td>\n",
              "    </tr>\n",
              "    <tr>\n",
              "      <th>7743</th>\n",
              "      <td>Udonis Haslem</td>\n",
              "      <td>46</td>\n",
              "      <td>3.8</td>\n",
              "      <td>3.8</td>\n",
              "      <td>0.3</td>\n",
              "    </tr>\n",
              "    <tr>\n",
              "      <th>7792</th>\n",
              "      <td>Toney Douglas</td>\n",
              "      <td>51</td>\n",
              "      <td>4.0</td>\n",
              "      <td>1.7</td>\n",
              "      <td>1.3</td>\n",
              "    </tr>\n",
              "    <tr>\n",
              "      <th>7805</th>\n",
              "      <td>Shane Battier</td>\n",
              "      <td>73</td>\n",
              "      <td>4.1</td>\n",
              "      <td>1.9</td>\n",
              "      <td>0.9</td>\n",
              "    </tr>\n",
              "    <tr>\n",
              "      <th>7862</th>\n",
              "      <td>James Jones</td>\n",
              "      <td>20</td>\n",
              "      <td>4.9</td>\n",
              "      <td>1.2</td>\n",
              "      <td>0.5</td>\n",
              "    </tr>\n",
              "    <tr>\n",
              "      <th>7878</th>\n",
              "      <td>LeBron James</td>\n",
              "      <td>77</td>\n",
              "      <td>27.1</td>\n",
              "      <td>6.9</td>\n",
              "      <td>6.3</td>\n",
              "    </tr>\n",
              "    <tr>\n",
              "      <th>7887</th>\n",
              "      <td>Mario Chalmers</td>\n",
              "      <td>73</td>\n",
              "      <td>9.8</td>\n",
              "      <td>2.9</td>\n",
              "      <td>4.9</td>\n",
              "    </tr>\n",
              "    <tr>\n",
              "      <th>7917</th>\n",
              "      <td>Justin Hamilton</td>\n",
              "      <td>8</td>\n",
              "      <td>3.3</td>\n",
              "      <td>0.9</td>\n",
              "      <td>0.0</td>\n",
              "    </tr>\n",
              "    <tr>\n",
              "      <th>7988</th>\n",
              "      <td>Greg Oden</td>\n",
              "      <td>23</td>\n",
              "      <td>2.9</td>\n",
              "      <td>2.3</td>\n",
              "      <td>0.0</td>\n",
              "    </tr>\n",
              "    <tr>\n",
              "      <th>8014</th>\n",
              "      <td>Dwyane Wade</td>\n",
              "      <td>54</td>\n",
              "      <td>19.0</td>\n",
              "      <td>4.5</td>\n",
              "      <td>4.7</td>\n",
              "    </tr>\n",
              "    <tr>\n",
              "      <th>8052</th>\n",
              "      <td>Michael Beasley</td>\n",
              "      <td>55</td>\n",
              "      <td>7.9</td>\n",
              "      <td>3.1</td>\n",
              "      <td>0.8</td>\n",
              "    </tr>\n",
              "    <tr>\n",
              "      <th>8084</th>\n",
              "      <td>Norris Cole</td>\n",
              "      <td>82</td>\n",
              "      <td>6.4</td>\n",
              "      <td>2.0</td>\n",
              "      <td>3.0</td>\n",
              "    </tr>\n",
              "  </tbody>\n",
              "</table>\n",
              "</div>"
            ],
            "text/plain": [
              "          player_name  gp   pts  reb  ast\n",
              "7660        Ray Allen  73   9.6  2.8  2.0\n",
              "7662    Rashard Lewis  60   4.5  1.8  1.0\n",
              "7698  DeAndre Liggins   1   2.0  1.0  0.0\n",
              "7721   Chris Andersen  72   6.6  5.3  0.3\n",
              "7723       Chris Bosh  79  16.2  6.6  1.1\n",
              "7736  Roger Mason Jr.  25   3.0  0.9  0.8\n",
              "7743    Udonis Haslem  46   3.8  3.8  0.3\n",
              "7792    Toney Douglas  51   4.0  1.7  1.3\n",
              "7805    Shane Battier  73   4.1  1.9  0.9\n",
              "7862      James Jones  20   4.9  1.2  0.5\n",
              "7878     LeBron James  77  27.1  6.9  6.3\n",
              "7887   Mario Chalmers  73   9.8  2.9  4.9\n",
              "7917  Justin Hamilton   8   3.3  0.9  0.0\n",
              "7988        Greg Oden  23   2.9  2.3  0.0\n",
              "8014      Dwyane Wade  54  19.0  4.5  4.7\n",
              "8052  Michael Beasley  55   7.9  3.1  0.8\n",
              "8084      Norris Cole  82   6.4  2.0  3.0"
            ]
          },
          "execution_count": 61,
          "metadata": {},
          "output_type": "execute_result"
        }
      ],
      "source": [
        "miami_2013 = data[(data['team_abbreviation'] == 'MIA') & (data['season'] == '2013-14')]\n",
        "miami_2013['player_name gp pts reb ast'.split()]"
      ]
    },
    {
      "cell_type": "markdown",
      "metadata": {
        "id": "QvE9R2ENs5iH"
      },
      "source": [
        "# Dados Hierárquicos"
      ]
    },
    {
      "cell_type": "code",
      "execution_count": 62,
      "metadata": {
        "colab": {
          "base_uri": "https://localhost:8080/",
          "height": 423
        },
        "id": "BsEyGBHxs5iH",
        "outputId": "2030e7e7-e744-49fb-f8ae-c793a716847e"
      },
      "outputs": [
        {
          "data": {
            "text/html": [
              "<div>\n",
              "<style scoped>\n",
              "    .dataframe tbody tr th:only-of-type {\n",
              "        vertical-align: middle;\n",
              "    }\n",
              "\n",
              "    .dataframe tbody tr th {\n",
              "        vertical-align: top;\n",
              "    }\n",
              "\n",
              "    .dataframe thead th {\n",
              "        text-align: right;\n",
              "    }\n",
              "</style>\n",
              "<table border=\"1\" class=\"dataframe\">\n",
              "  <thead>\n",
              "    <tr style=\"text-align: right;\">\n",
              "      <th></th>\n",
              "      <th>player_name</th>\n",
              "      <th>gp</th>\n",
              "      <th>pts</th>\n",
              "      <th>reb</th>\n",
              "      <th>ast</th>\n",
              "    </tr>\n",
              "  </thead>\n",
              "  <tbody>\n",
              "    <tr>\n",
              "      <th>0</th>\n",
              "      <td>Dennis Rodman</td>\n",
              "      <td>55</td>\n",
              "      <td>5.7</td>\n",
              "      <td>16.1</td>\n",
              "      <td>3.1</td>\n",
              "    </tr>\n",
              "    <tr>\n",
              "      <th>1</th>\n",
              "      <td>Dwayne Schintzius</td>\n",
              "      <td>15</td>\n",
              "      <td>2.3</td>\n",
              "      <td>1.5</td>\n",
              "      <td>0.3</td>\n",
              "    </tr>\n",
              "    <tr>\n",
              "      <th>2</th>\n",
              "      <td>Earl Cureton</td>\n",
              "      <td>9</td>\n",
              "      <td>0.8</td>\n",
              "      <td>1.0</td>\n",
              "      <td>0.4</td>\n",
              "    </tr>\n",
              "    <tr>\n",
              "      <th>3</th>\n",
              "      <td>Ed O'Bannon</td>\n",
              "      <td>64</td>\n",
              "      <td>3.7</td>\n",
              "      <td>2.3</td>\n",
              "      <td>0.6</td>\n",
              "    </tr>\n",
              "    <tr>\n",
              "      <th>4</th>\n",
              "      <td>Ed Pinckney</td>\n",
              "      <td>27</td>\n",
              "      <td>2.4</td>\n",
              "      <td>2.4</td>\n",
              "      <td>0.2</td>\n",
              "    </tr>\n",
              "    <tr>\n",
              "      <th>...</th>\n",
              "      <td>...</td>\n",
              "      <td>...</td>\n",
              "      <td>...</td>\n",
              "      <td>...</td>\n",
              "      <td>...</td>\n",
              "    </tr>\n",
              "    <tr>\n",
              "      <th>12300</th>\n",
              "      <td>Markieff Morris</td>\n",
              "      <td>17</td>\n",
              "      <td>7.6</td>\n",
              "      <td>2.6</td>\n",
              "      <td>1.4</td>\n",
              "    </tr>\n",
              "    <tr>\n",
              "      <th>12301</th>\n",
              "      <td>Markelle Fultz</td>\n",
              "      <td>18</td>\n",
              "      <td>10.8</td>\n",
              "      <td>2.7</td>\n",
              "      <td>5.5</td>\n",
              "    </tr>\n",
              "    <tr>\n",
              "      <th>12302</th>\n",
              "      <td>Marcus Smart</td>\n",
              "      <td>71</td>\n",
              "      <td>12.1</td>\n",
              "      <td>3.8</td>\n",
              "      <td>5.9</td>\n",
              "    </tr>\n",
              "    <tr>\n",
              "      <th>12303</th>\n",
              "      <td>Marcus Garrett</td>\n",
              "      <td>12</td>\n",
              "      <td>1.1</td>\n",
              "      <td>1.9</td>\n",
              "      <td>0.6</td>\n",
              "    </tr>\n",
              "    <tr>\n",
              "      <th>12304</th>\n",
              "      <td>Micah Potter</td>\n",
              "      <td>3</td>\n",
              "      <td>4.0</td>\n",
              "      <td>3.0</td>\n",
              "      <td>0.0</td>\n",
              "    </tr>\n",
              "  </tbody>\n",
              "</table>\n",
              "<p>12305 rows × 5 columns</p>\n",
              "</div>"
            ],
            "text/plain": [
              "             player_name  gp   pts   reb  ast\n",
              "0          Dennis Rodman  55   5.7  16.1  3.1\n",
              "1      Dwayne Schintzius  15   2.3   1.5  0.3\n",
              "2           Earl Cureton   9   0.8   1.0  0.4\n",
              "3            Ed O'Bannon  64   3.7   2.3  0.6\n",
              "4            Ed Pinckney  27   2.4   2.4  0.2\n",
              "...                  ...  ..   ...   ...  ...\n",
              "12300    Markieff Morris  17   7.6   2.6  1.4\n",
              "12301     Markelle Fultz  18  10.8   2.7  5.5\n",
              "12302       Marcus Smart  71  12.1   3.8  5.9\n",
              "12303     Marcus Garrett  12   1.1   1.9  0.6\n",
              "12304       Micah Potter   3   4.0   3.0  0.0\n",
              "\n",
              "[12305 rows x 5 columns]"
            ]
          },
          "execution_count": 62,
          "metadata": {},
          "output_type": "execute_result"
        }
      ],
      "source": [
        "data['player_name gp pts reb ast'.split()]"
      ]
    },
    {
      "cell_type": "markdown",
      "metadata": {
        "id": "-dm1e_Zhs5iI"
      },
      "source": [
        "Sao dados hierarquicos pq esses valores sao as medias por temporada de cada jogador, ou seja, esse valor eh calculado atraves da soma das pontuacoes que ele marcou em cada jogo, divido pelo numero de jogos que ele jogou. "
      ]
    },
    {
      "cell_type": "markdown",
      "metadata": {
        "id": "6i_3iDlHs5iJ"
      },
      "source": [
        "# Séries temporais "
      ]
    },
    {
      "cell_type": "code",
      "execution_count": 63,
      "metadata": {
        "colab": {
          "base_uri": "https://localhost:8080/",
          "height": 315
        },
        "id": "pi9t3iVGs5iK",
        "outputId": "d2c20b6a-7e36-4691-f176-10034482b2d9"
      },
      "outputs": [
        {
          "data": {
            "text/plain": [
              "<AxesSubplot: >"
            ]
          },
          "execution_count": 63,
          "metadata": {},
          "output_type": "execute_result"
        },
        {
          "data": {
            "image/png": "[encoded data removed]",
            "text/plain": [
              "<Figure size 640x480 with 1 Axes>"
            ]
          },
          "metadata": {},
          "output_type": "display_data"
        }
      ],
      "source": [
        "# seasons = data[(data['season'] > '2002-03') & (data['season'] < '2010-11')]\n",
        "\n",
        "# lebron = seasons[seasons['player_name'] == 'LeBron James']\n",
        "\n",
        "# lebron.plot.bar(x='season', y='pts')\n",
        "# plt.show()\n",
        "\n",
        "\n",
        "# jogadores estrangeiros por temporada\n",
        "\n",
        "temporal = data['player_name country season'.split()]\n",
        "temporal = temporal[temporal['country'] != 'USA']\n",
        "temporal_foreingers = temporal['season'].value_counts(sort=False)\n",
        "temporal_foreingers.plot.bar()"
      ]
    },
    {
      "cell_type": "markdown",
      "metadata": {
        "id": "2jYdetrms5iM"
      },
      "source": [
        "# Análise Geral de Dados"
      ]
    },
    {
      "cell_type": "code",
      "execution_count": null,
      "metadata": {
        "id": "HY0H7T8EMCMf"
      },
      "outputs": [],
      "source": []
    },
    {
      "cell_type": "code",
      "execution_count": 64,
      "metadata": {
        "colab": {
          "base_uri": "https://localhost:8080/",
          "height": 112
        },
        "id": "QX79RiErs5iW",
        "outputId": "8aecff32-6c5d-42db-c030-e977fe854fa5"
      },
      "outputs": [
        {
          "data": {
            "text/html": [
              "<div>\n",
              "<style scoped>\n",
              "    .dataframe tbody tr th:only-of-type {\n",
              "        vertical-align: middle;\n",
              "    }\n",
              "\n",
              "    .dataframe tbody tr th {\n",
              "        vertical-align: top;\n",
              "    }\n",
              "\n",
              "    .dataframe thead th {\n",
              "        text-align: right;\n",
              "    }\n",
              "</style>\n",
              "<table border=\"1\" class=\"dataframe\">\n",
              "  <thead>\n",
              "    <tr style=\"text-align: right;\">\n",
              "      <th></th>\n",
              "      <th>player_height</th>\n",
              "      <th>player_weight</th>\n",
              "    </tr>\n",
              "  </thead>\n",
              "  <tbody>\n",
              "    <tr>\n",
              "      <th>player_height</th>\n",
              "      <td>1.000000</td>\n",
              "      <td>0.825421</td>\n",
              "    </tr>\n",
              "    <tr>\n",
              "      <th>player_weight</th>\n",
              "      <td>0.825421</td>\n",
              "      <td>1.000000</td>\n",
              "    </tr>\n",
              "  </tbody>\n",
              "</table>\n",
              "</div>"
            ],
            "text/plain": [
              "               player_height  player_weight\n",
              "player_height       1.000000       0.825421\n",
              "player_weight       0.825421       1.000000"
            ]
          },
          "execution_count": 64,
          "metadata": {},
          "output_type": "execute_result"
        }
      ],
      "source": [
        "# altura_reb = data['player_height', 'reb']\n",
        "\n",
        "corr =  data[['player_height', 'player_weight']].corr()\n",
        "corr"
      ]
    },
    {
      "cell_type": "markdown",
      "metadata": {
        "id": "mae6xwZXs5iS"
      },
      "source": [
        "### ATIVIDADE 2"
      ]
    },
    {
      "cell_type": "code",
      "execution_count": 65,
      "metadata": {
        "colab": {
          "base_uri": "https://localhost:8080/"
        },
        "id": "ZmOwYHfSMMH4",
        "outputId": "57eee01c-1de8-426f-d911-6725836de881"
      },
      "outputs": [
        {
          "name": "stdout",
          "output_type": "stream",
          "text": [
            "<class 'pandas.core.frame.DataFrame'>\n",
            "RangeIndex: 12305 entries, 0 to 12304\n",
            "Data columns (total 15 columns):\n",
            " #   Column             Non-Null Count  Dtype  \n",
            "---  ------             --------------  -----  \n",
            " 0   player_name        12305 non-null  object \n",
            " 1   team_abbreviation  12305 non-null  object \n",
            " 2   age                12305 non-null  float64\n",
            " 3   player_height      12305 non-null  float64\n",
            " 4   player_weight      12305 non-null  float64\n",
            " 5   college            12305 non-null  object \n",
            " 6   country            12305 non-null  object \n",
            " 7   draft_year         12305 non-null  object \n",
            " 8   draft_round        12305 non-null  object \n",
            " 9   draft_number       12305 non-null  object \n",
            " 10  gp                 12305 non-null  int64  \n",
            " 11  pts                12305 non-null  float64\n",
            " 12  reb                12305 non-null  float64\n",
            " 13  ast                12305 non-null  float64\n",
            " 14  season             12305 non-null  object \n",
            "dtypes: float64(6), int64(1), object(8)\n",
            "memory usage: 1.4+ MB\n"
          ]
        }
      ],
      "source": [
        "data.info()"
      ]
    },
    {
      "cell_type": "code",
      "execution_count": 66,
      "metadata": {
        "id": "Zmh9CcL2Wtsx"
      },
      "outputs": [],
      "source": [
        "import numpy as np\n",
        "import pandas as pd\n",
        "import matplotlib.pyplot as plt\n",
        "import seaborn as sns\n",
        "%matplotlib inline"
      ]
    },
    {
      "cell_type": "code",
      "execution_count": 67,
      "metadata": {
        "colab": {
          "base_uri": "https://localhost:8080/"
        },
        "id": "9FZokkWTWfo_",
        "outputId": "02e0c0aa-f830-44e4-ffdb-4c7f8e551eec"
      },
      "outputs": [
        {
          "data": {
            "text/plain": [
              "12305"
            ]
          },
          "execution_count": 67,
          "metadata": {},
          "output_type": "execute_result"
        }
      ],
      "source": [
        "data['pts'].count()"
      ]
    },
    {
      "cell_type": "markdown",
      "metadata": {
        "id": "VDtvoqj9CX-K"
      },
      "source": [
        "Age"
      ]
    },
    {
      "cell_type": "code",
      "execution_count": 68,
      "metadata": {
        "colab": {
          "base_uri": "https://localhost:8080/"
        },
        "id": "VUdtGDP3W6v1",
        "outputId": "d8e68ad3-7b25-4118-a70e-d19e71eb8c24"
      },
      "outputs": [
        {
          "name": "stdout",
          "output_type": "stream",
          "text": [
            "Count: 12305\n",
            "Mean: 27.08451848841934\n",
            "Median: 26.0\n"
          ]
        }
      ],
      "source": [
        "count = data['age'].count()\n",
        "mean = data['age'].mean()\n",
        "median = data['age'].median()\n",
        "\n",
        "print(f'Count: {count}\\nMean: {mean}\\nMedian: {median}')"
      ]
    },
    {
      "cell_type": "code",
      "execution_count": 81,
      "metadata": {
        "colab": {
          "base_uri": "https://localhost:8080/"
        },
        "id": "SRJaljbq8N6W",
        "outputId": "9c04e0bf-acdd-40ae-8857-accd0ad61400"
      },
      "outputs": [
        {
          "ename": "SyntaxError",
          "evalue": "invalid syntax (146074204.py, line 4)",
          "output_type": "error",
          "traceback": [
            "\u001b[0;36m  Cell \u001b[0;32mIn[81], line 4\u001b[0;36m\u001b[0m\n\u001b[0;31m    .count()\u001b[0m\n\u001b[0m    ^\u001b[0m\n\u001b[0;31mSyntaxError\u001b[0m\u001b[0;31m:\u001b[0m invalid syntax\n"
          ]
        }
      ],
      "source": [
        "sample_age = data['age'].sample(frac=0.3)\n",
        "\n",
        "count = sample_age\n",
        ".count()\n",
        "mean = sample_age.mean()\n",
        "median = sample_age.median()\n",
        "\n",
        "print(f'Count: {count}\\nMean: {mean}\\nMedian: {median}')"
      ]
    },
    {
      "cell_type": "code",
      "execution_count": 82,
      "metadata": {
        "colab": {
          "base_uri": "https://localhost:8080/",
          "height": 430
        },
        "id": "nVjrsJJjXGcS",
        "outputId": "d98171da-fc0c-436a-a111-a548160a8f80"
      },
      "outputs": [
        {
          "data": {
            "text/plain": [
              "count    12305.000000\n",
              "mean        27.084518\n",
              "std          4.335868\n",
              "min         18.000000\n",
              "25%         24.000000\n",
              "50%         26.000000\n",
              "75%         30.000000\n",
              "max         44.000000\n",
              "Name: age, dtype: float64"
            ]
          },
          "execution_count": 82,
          "metadata": {},
          "output_type": "execute_result"
        },
        {
          "data": {
            "image/png": "[encoded data removed]",
            "text/plain": [
              "<Figure size 640x480 with 1 Axes>"
            ]
          },
          "metadata": {},
          "output_type": "display_data"
        }
      ],
      "source": [
        "y = data['age']\n",
        "plt.boxplot(y)\n",
        "y.describe()"
      ]
    },
    {
      "cell_type": "code",
      "execution_count": 71,
      "metadata": {
        "colab": {
          "base_uri": "https://localhost:8080/",
          "height": 428
        },
        "id": "x3Z4goGk8eY3",
        "outputId": "d2b39211-37d6-4865-9043-4f46586bfccd"
      },
      "outputs": [
        {
          "data": {
            "text/plain": [
              "count    3692.000000\n",
              "mean       27.156555\n",
              "std         4.362518\n",
              "min        19.000000\n",
              "25%        24.000000\n",
              "50%        27.000000\n",
              "75%        30.000000\n",
              "max        42.000000\n",
              "Name: age, dtype: float64"
            ]
          },
          "execution_count": 71,
          "metadata": {},
          "output_type": "execute_result"
        },
        {
          "data": {
            "image/png": "[encoded data removed]",
            "text/plain": [
              "<Figure size 640x480 with 1 Axes>"
            ]
          },
          "metadata": {},
          "output_type": "display_data"
        }
      ],
      "source": [
        "plt.boxplot(sample_age)\n",
        "sample_age.describe()"
      ]
    },
    {
      "cell_type": "markdown",
      "metadata": {
        "id": "Bc0f1aJ6Ci4d"
      },
      "source": [
        "### Height"
      ]
    },
    {
      "cell_type": "code",
      "execution_count": 72,
      "metadata": {
        "colab": {
          "base_uri": "https://localhost:8080/"
        },
        "id": "EF5FesTMXR8o",
        "outputId": "c6f9cad6-e787-48f1-adfe-0c97f7e352dd"
      },
      "outputs": [
        {
          "name": "stdout",
          "output_type": "stream",
          "text": [
            "Count: 12305\n",
            "Mean: 200.61160178789112\n",
            "Median: 200.66\n"
          ]
        }
      ],
      "source": [
        "count = data['player_height'].count()\n",
        "mean = data['player_height'].mean()\n",
        "median = data['player_height'].median()\n",
        "\n",
        "print(f'Count: {count}\\nMean: {mean}\\nMedian: {median}')"
      ]
    },
    {
      "cell_type": "code",
      "execution_count": 73,
      "metadata": {
        "colab": {
          "base_uri": "https://localhost:8080/"
        },
        "id": "w-zsGSZU9ZJm",
        "outputId": "0be78441-2a27-406b-ce50-b0bd207a422b"
      },
      "outputs": [
        {
          "name": "stdout",
          "output_type": "stream",
          "text": [
            "Count: 3692\n",
            "Mean: 200.49111592632718\n",
            "Median: 200.66\n"
          ]
        }
      ],
      "source": [
        "sample_height = data['player_height'].sample(frac=0.3)\n",
        "\n",
        "count = sample_height.count()\n",
        "mean = sample_height.mean()\n",
        "median = sample_height.median()\n",
        "\n",
        "print(f'Count: {count}\\nMean: {mean}\\nMedian: {median}')"
      ]
    },
    {
      "cell_type": "code",
      "execution_count": 74,
      "metadata": {
        "colab": {
          "base_uri": "https://localhost:8080/",
          "height": 428
        },
        "id": "coCfKEI6CtjO",
        "outputId": "5f716f40-76a4-4464-91f2-2ad6a278dff7"
      },
      "outputs": [
        {
          "data": {
            "text/plain": [
              "count    12305.000000\n",
              "mean       200.611602\n",
              "std          9.146321\n",
              "min        160.020000\n",
              "25%        193.040000\n",
              "50%        200.660000\n",
              "75%        208.280000\n",
              "max        231.140000\n",
              "Name: player_height, dtype: float64"
            ]
          },
          "execution_count": 74,
          "metadata": {},
          "output_type": "execute_result"
        },
        {
          "data": {
            "image/png": "[encoded data removed]",
            "text/plain": [
              "<Figure size 640x480 with 1 Axes>"
            ]
          },
          "metadata": {},
          "output_type": "display_data"
        }
      ],
      "source": [
        "plt.boxplot(data['player_height'])\n",
        "data['player_height'].describe()"
      ]
    },
    {
      "cell_type": "code",
      "execution_count": 75,
      "metadata": {
        "colab": {
          "base_uri": "https://localhost:8080/",
          "height": 428
        },
        "id": "Lf25TFaT9laN",
        "outputId": "4910edf4-6513-4c54-b121-01df27013a17"
      },
      "outputs": [
        {
          "data": {
            "text/plain": [
              "count    3692.000000\n",
              "mean      200.491116\n",
              "std         9.193085\n",
              "min       160.020000\n",
              "25%       193.040000\n",
              "50%       200.660000\n",
              "75%       208.280000\n",
              "max       231.140000\n",
              "Name: player_height, dtype: float64"
            ]
          },
          "execution_count": 75,
          "metadata": {},
          "output_type": "execute_result"
        },
        {
          "data": {
            "image/png": "[encoded data removed]",
            "text/plain": [
              "<Figure size 640x480 with 1 Axes>"
            ]
          },
          "metadata": {},
          "output_type": "display_data"
        }
      ],
      "source": [
        "plt.boxplot(sample_height)\n",
        "sample_height.describe()"
      ]
    },
    {
      "cell_type": "code",
      "execution_count": 76,
      "metadata": {
        "colab": {
          "base_uri": "https://localhost:8080/",
          "height": 269
        },
        "id": "h_Tq4l2RYIjw",
        "outputId": "13c5caad-2f2b-4d66-c464-d22354a6064c"
      },
      "outputs": [
        {
          "name": "stderr",
          "output_type": "stream",
          "text": [
            "/tmp/ipykernel_17314/2627137660.py:1: FutureWarning: The default value of numeric_only in DataFrame.corr is deprecated. In a future version, it will default to False. Select only valid columns or specify the value of numeric_only to silence this warning.\n",
            "  data.corr()\n"
          ]
        },
        {
          "data": {
            "text/html": [
              "<div>\n",
              "<style scoped>\n",
              "    .dataframe tbody tr th:only-of-type {\n",
              "        vertical-align: middle;\n",
              "    }\n",
              "\n",
              "    .dataframe tbody tr th {\n",
              "        vertical-align: top;\n",
              "    }\n",
              "\n",
              "    .dataframe thead th {\n",
              "        text-align: right;\n",
              "    }\n",
              "</style>\n",
              "<table border=\"1\" class=\"dataframe\">\n",
              "  <thead>\n",
              "    <tr style=\"text-align: right;\">\n",
              "      <th></th>\n",
              "      <th>age</th>\n",
              "      <th>player_height</th>\n",
              "      <th>player_weight</th>\n",
              "      <th>gp</th>\n",
              "      <th>pts</th>\n",
              "      <th>reb</th>\n",
              "      <th>ast</th>\n",
              "    </tr>\n",
              "  </thead>\n",
              "  <tbody>\n",
              "    <tr>\n",
              "      <th>age</th>\n",
              "      <td>1.000000</td>\n",
              "      <td>-0.008954</td>\n",
              "      <td>0.058544</td>\n",
              "      <td>0.055218</td>\n",
              "      <td>0.008118</td>\n",
              "      <td>0.035623</td>\n",
              "      <td>0.090209</td>\n",
              "    </tr>\n",
              "    <tr>\n",
              "      <th>player_height</th>\n",
              "      <td>-0.008954</td>\n",
              "      <td>1.000000</td>\n",
              "      <td>0.825421</td>\n",
              "      <td>0.002202</td>\n",
              "      <td>-0.056564</td>\n",
              "      <td>0.423275</td>\n",
              "      <td>-0.449033</td>\n",
              "    </tr>\n",
              "    <tr>\n",
              "      <th>player_weight</th>\n",
              "      <td>0.058544</td>\n",
              "      <td>0.825421</td>\n",
              "      <td>1.000000</td>\n",
              "      <td>0.019652</td>\n",
              "      <td>-0.026664</td>\n",
              "      <td>0.437930</td>\n",
              "      <td>-0.378784</td>\n",
              "    </tr>\n",
              "    <tr>\n",
              "      <th>gp</th>\n",
              "      <td>0.055218</td>\n",
              "      <td>0.002202</td>\n",
              "      <td>0.019652</td>\n",
              "      <td>1.000000</td>\n",
              "      <td>0.539066</td>\n",
              "      <td>0.470948</td>\n",
              "      <td>0.385836</td>\n",
              "    </tr>\n",
              "    <tr>\n",
              "      <th>pts</th>\n",
              "      <td>0.008118</td>\n",
              "      <td>-0.056564</td>\n",
              "      <td>-0.026664</td>\n",
              "      <td>0.539066</td>\n",
              "      <td>1.000000</td>\n",
              "      <td>0.624889</td>\n",
              "      <td>0.660949</td>\n",
              "    </tr>\n",
              "    <tr>\n",
              "      <th>reb</th>\n",
              "      <td>0.035623</td>\n",
              "      <td>0.423275</td>\n",
              "      <td>0.437930</td>\n",
              "      <td>0.470948</td>\n",
              "      <td>0.624889</td>\n",
              "      <td>1.000000</td>\n",
              "      <td>0.241018</td>\n",
              "    </tr>\n",
              "    <tr>\n",
              "      <th>ast</th>\n",
              "      <td>0.090209</td>\n",
              "      <td>-0.449033</td>\n",
              "      <td>-0.378784</td>\n",
              "      <td>0.385836</td>\n",
              "      <td>0.660949</td>\n",
              "      <td>0.241018</td>\n",
              "      <td>1.000000</td>\n",
              "    </tr>\n",
              "  </tbody>\n",
              "</table>\n",
              "</div>"
            ],
            "text/plain": [
              "                    age  player_height  player_weight        gp       pts  \\\n",
              "age            1.000000      -0.008954       0.058544  0.055218  0.008118   \n",
              "player_height -0.008954       1.000000       0.825421  0.002202 -0.056564   \n",
              "player_weight  0.058544       0.825421       1.000000  0.019652 -0.026664   \n",
              "gp             0.055218       0.002202       0.019652  1.000000  0.539066   \n",
              "pts            0.008118      -0.056564      -0.026664  0.539066  1.000000   \n",
              "reb            0.035623       0.423275       0.437930  0.470948  0.624889   \n",
              "ast            0.090209      -0.449033      -0.378784  0.385836  0.660949   \n",
              "\n",
              "                    reb       ast  \n",
              "age            0.035623  0.090209  \n",
              "player_height  0.423275 -0.449033  \n",
              "player_weight  0.437930 -0.378784  \n",
              "gp             0.470948  0.385836  \n",
              "pts            0.624889  0.660949  \n",
              "reb            1.000000  0.241018  \n",
              "ast            0.241018  1.000000  "
            ]
          },
          "execution_count": 76,
          "metadata": {},
          "output_type": "execute_result"
        }
      ],
      "source": [
        "data.corr()"
      ]
    },
    {
      "cell_type": "code",
      "execution_count": 77,
      "metadata": {
        "colab": {
          "base_uri": "https://localhost:8080/",
          "height": 347
        },
        "id": "yEa5rLn1Yb69",
        "outputId": "9617a070-9e8a-4acd-907d-18915ab08570"
      },
      "outputs": [
        {
          "name": "stderr",
          "output_type": "stream",
          "text": [
            "/tmp/ipykernel_17314/1794321463.py:1: FutureWarning: The default value of numeric_only in DataFrame.corr is deprecated. In a future version, it will default to False. Select only valid columns or specify the value of numeric_only to silence this warning.\n",
            "  sns.heatmap(data.corr())\n"
          ]
        },
        {
          "data": {
            "text/plain": [
              "<AxesSubplot: >"
            ]
          },
          "execution_count": 77,
          "metadata": {},
          "output_type": "execute_result"
        },
        {
          "data": {
            "image/png": "[encoded data removed]",
            "text/plain": [
              "<Figure size 640x480 with 2 Axes>"
            ]
          },
          "metadata": {},
          "output_type": "display_data"
        }
      ],
      "source": [
        "sns.heatmap(data.corr())"
      ]
    },
    {
      "cell_type": "code",
      "execution_count": 78,
      "metadata": {
        "colab": {
          "base_uri": "https://localhost:8080/",
          "height": 397
        },
        "id": "6Ycdua1PYgUk",
        "outputId": "9c3c5b89-bbc5-489c-fa93-4e47687a3dba"
      },
      "outputs": [
        {
          "name": "stderr",
          "output_type": "stream",
          "text": [
            "/tmp/ipykernel_17314/571122524.py:2: FutureWarning: The default value of numeric_only in DataFrame.corr is deprecated. In a future version, it will default to False. Select only valid columns or specify the value of numeric_only to silence this warning.\n",
            "  heatmap = sns.heatmap(data.corr(), vmin=-1, vmax=1, annot=True)\n"
          ]
        },
        {
          "data": {
            "image/png": "[encoded data removed]",
            "text/plain": [
              "<Figure size 1600x600 with 2 Axes>"
            ]
          },
          "metadata": {},
          "output_type": "display_data"
        }
      ],
      "source": [
        "plt.figure(figsize=(16, 6))\n",
        "heatmap = sns.heatmap(data.corr(), vmin=-1, vmax=1, annot=True)\n",
        "heatmap.set_title('Correlation Heatmap', fontdict={'fontsize':12}, pad=12);"
      ]
    },
    {
      "cell_type": "markdown",
      "metadata": {},
      "source": [
        "#Atividade 03"
      ]
    },
    {
      "cell_type": "markdown",
      "metadata": {},
      "source": [
        "10 amostras de duas colunas diferentes. (Esses sao os dois grupos da questao 1)\n",
        "Criar uma coluna nova com os pontos totais do jogador na temporada para ver se a quantidade de jogos influencia na pontuacao total do jogador na temporada"
      ]
    },
    {
      "cell_type": "code",
      "execution_count": 132,
      "metadata": {},
      "outputs": [
        {
          "name": "stdout",
          "output_type": "stream",
          "text": [
            "0\n",
            "1\n",
            "2\n",
            "3\n",
            "4\n",
            "5\n",
            "6\n",
            "7\n",
            "8\n",
            "9\n",
            "12112    51\n",
            "488      70\n",
            "6029     76\n",
            "7079     44\n",
            "10274    68\n",
            "         ..\n",
            "9364     27\n",
            "11107    55\n",
            "4976     70\n",
            "812      63\n",
            "11439    56\n",
            "Name: gp, Length: 3692, dtype: int64\n"
          ]
        }
      ],
      "source": [
        "amostras = {\n",
        "    \"amostra_1\": [],\n",
        "    \"amostra_2\": [],\n",
        "    \"amostra_3\": [],\n",
        "    \"amostra_4\": [],\n",
        "    \"amostra_5\": [],\n",
        "    \"amostra_6\": [],\n",
        "    \"amostra_7\": [],\n",
        "    \"amostra_8\": [],\n",
        "    \"amostra_9\": [],\n",
        "    \"amostra_10\": []\n",
        "}\n",
        "\n",
        "for i in range(10):\n",
        "    print(i)\n",
        "    amostras[f\"amostra_{i+1}\"] = data['gp'].sample(frac=0.3)\n",
        "\n",
        "print(amostras[\"amostra_5\"])"
      ]
    },
    {
      "cell_type": "code",
      "execution_count": 133,
      "metadata": {},
      "outputs": [
        {
          "name": "stdout",
          "output_type": "stream",
          "text": [
            "51.43228602383532\n"
          ]
        },
        {
          "ename": "IndexError",
          "evalue": "list assignment index out of range",
          "output_type": "error",
          "traceback": [
            "\u001b[0;31m---------------------------------------------------------------------------\u001b[0m",
            "\u001b[0;31mIndexError\u001b[0m                                Traceback (most recent call last)",
            "Cell \u001b[0;32mIn[133], line 5\u001b[0m\n\u001b[1;32m      1\u001b[0m medias \u001b[39m=\u001b[39m [\u001b[39m10\u001b[39m]\n\u001b[1;32m      4\u001b[0m \u001b[39mfor\u001b[39;00m i \u001b[39min\u001b[39;00m \u001b[39mrange\u001b[39m(\u001b[39m10\u001b[39m):\n\u001b[0;32m----> 5\u001b[0m     medias[i] \u001b[39m=\u001b[39m np\u001b[39m.\u001b[39mmean(amostras[\u001b[39mf\u001b[39m\u001b[39m\"\u001b[39m\u001b[39mamostra_\u001b[39m\u001b[39m{\u001b[39;00mi\u001b[39m+\u001b[39m\u001b[39m1\u001b[39m\u001b[39m}\u001b[39;00m\u001b[39m\"\u001b[39m])\n\u001b[1;32m      6\u001b[0m     \u001b[39mprint\u001b[39m(medias[i])\n",
            "\u001b[0;31mIndexError\u001b[0m: list assignment index out of range"
          ]
        }
      ],
      "source": [
        "medias = [10]\n",
        "\n",
        "\n",
        "for i in range(10):\n",
        "    medias[i] = np.mean(amostras[f\"amostra_{i+1}\"])\n",
        "    print(medias[i])"
      ]
    },
    {
      "cell_type": "code",
      "execution_count": null,
      "metadata": {},
      "outputs": [],
      "source": []
    }
  ],
  "metadata": {
    "colab": {
      "provenance": []
    },
    "kernelspec": {
      "display_name": "Python 3.10.6 64-bit",
      "language": "python",
      "name": "python3"
    },
    "language_info": {
      "codemirror_mode": {
        "name": "ipython",
        "version": 3
      },
      "file_extension": ".py",
      "mimetype": "text/x-python",
      "name": "python",
      "nbconvert_exporter": "python",
      "pygments_lexer": "ipython3",
      "version": "3.10.6"
    },
    "vscode": {
      "interpreter": {
        "hash": "916dbcbb3f70747c44a77c7bcd40155683ae19c65e1c03b4aa3499c5328201f1"
      }
    }
  },
  "nbformat": 4,
  "nbformat_minor": 0
}
